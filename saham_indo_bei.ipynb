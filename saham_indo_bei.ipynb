{
  "nbformat": 4,
  "nbformat_minor": 0,
  "metadata": {
    "colab": {
      "name": "saham-indo-bei.ipynb",
      "provenance": [],
      "collapsed_sections": [],
      "machine_shape": "hm",
      "authorship_tag": "ABX9TyPaR1ylmPz/UUBDdHNniZVs",
      "include_colab_link": true
    },
    "kernelspec": {
      "display_name": "Python 3",
      "name": "python3"
    },
    "language_info": {
      "name": "python"
    },
    "accelerator": "GPU"
  },
  "cells": [
    {
      "cell_type": "markdown",
      "metadata": {
        "id": "view-in-github",
        "colab_type": "text"
      },
      "source": [
        "<a href=\"https://colab.research.google.com/github/nausya/tesis/blob/main/saham_indo_bei.ipynb\" target=\"_parent\"><img src=\"https://colab.research.google.com/assets/colab-badge.svg\" alt=\"Open In Colab\"/></a>"
      ]
    },
    {
      "cell_type": "code",
      "source": [
        "pip install yfinance"
      ],
      "metadata": {
        "colab": {
          "base_uri": "https://localhost:8080/"
        },
        "id": "mDiYiHF4qe4B",
        "outputId": "d756b391-3aae-4f82-9193-6ac51ca85f8c"
      },
      "execution_count": 1,
      "outputs": [
        {
          "output_type": "stream",
          "name": "stdout",
          "text": [
            "Collecting yfinance\n",
            "  Downloading yfinance-0.1.70-py2.py3-none-any.whl (26 kB)\n",
            "Requirement already satisfied: multitasking>=0.0.7 in /usr/local/lib/python3.7/dist-packages (from yfinance) (0.0.10)\n",
            "Requirement already satisfied: numpy>=1.15 in /usr/local/lib/python3.7/dist-packages (from yfinance) (1.21.5)\n",
            "Collecting requests>=2.26\n",
            "  Downloading requests-2.27.1-py2.py3-none-any.whl (63 kB)\n",
            "\u001b[K     |████████████████████████████████| 63 kB 1.4 MB/s \n",
            "\u001b[?25hCollecting lxml>=4.5.1\n",
            "  Downloading lxml-4.8.0-cp37-cp37m-manylinux_2_17_x86_64.manylinux2014_x86_64.manylinux_2_24_x86_64.whl (6.4 MB)\n",
            "\u001b[K     |████████████████████████████████| 6.4 MB 27.1 MB/s \n",
            "\u001b[?25hRequirement already satisfied: pandas>=0.24.0 in /usr/local/lib/python3.7/dist-packages (from yfinance) (1.3.5)\n",
            "Requirement already satisfied: python-dateutil>=2.7.3 in /usr/local/lib/python3.7/dist-packages (from pandas>=0.24.0->yfinance) (2.8.2)\n",
            "Requirement already satisfied: pytz>=2017.3 in /usr/local/lib/python3.7/dist-packages (from pandas>=0.24.0->yfinance) (2018.9)\n",
            "Requirement already satisfied: six>=1.5 in /usr/local/lib/python3.7/dist-packages (from python-dateutil>=2.7.3->pandas>=0.24.0->yfinance) (1.15.0)\n",
            "Requirement already satisfied: idna<4,>=2.5 in /usr/local/lib/python3.7/dist-packages (from requests>=2.26->yfinance) (2.10)\n",
            "Requirement already satisfied: certifi>=2017.4.17 in /usr/local/lib/python3.7/dist-packages (from requests>=2.26->yfinance) (2021.10.8)\n",
            "Requirement already satisfied: charset-normalizer~=2.0.0 in /usr/local/lib/python3.7/dist-packages (from requests>=2.26->yfinance) (2.0.12)\n",
            "Requirement already satisfied: urllib3<1.27,>=1.21.1 in /usr/local/lib/python3.7/dist-packages (from requests>=2.26->yfinance) (1.24.3)\n",
            "Installing collected packages: requests, lxml, yfinance\n",
            "  Attempting uninstall: requests\n",
            "    Found existing installation: requests 2.23.0\n",
            "    Uninstalling requests-2.23.0:\n",
            "      Successfully uninstalled requests-2.23.0\n",
            "  Attempting uninstall: lxml\n",
            "    Found existing installation: lxml 4.2.6\n",
            "    Uninstalling lxml-4.2.6:\n",
            "      Successfully uninstalled lxml-4.2.6\n",
            "\u001b[31mERROR: pip's dependency resolver does not currently take into account all the packages that are installed. This behaviour is the source of the following dependency conflicts.\n",
            "google-colab 1.0.0 requires requests~=2.23.0, but you have requests 2.27.1 which is incompatible.\n",
            "datascience 0.10.6 requires folium==0.2.1, but you have folium 0.8.3 which is incompatible.\u001b[0m\n",
            "Successfully installed lxml-4.8.0 requests-2.27.1 yfinance-0.1.70\n"
          ]
        }
      ]
    },
    {
      "cell_type": "code",
      "metadata": {
        "id": "ad_L4E31NZm0"
      },
      "source": [
        "#Impor Library\n",
        "import pandas as pd\n",
        "import numpy as np\n",
        "%matplotlib inline\n",
        "import matplotlib. pyplot as plt\n",
        "import matplotlib\n",
        "from sklearn.preprocessing import MinMaxScaler\n",
        "from sklearn.preprocessing import StandardScaler\n",
        "from tensorflow.keras.layers import LSTM,SimpleRNN,GRU,Dense,Dropout\n",
        "from sklearn.model_selection import TimeSeriesSplit\n",
        "import matplotlib. dates as mandates\n",
        "from sklearn import linear_model\n",
        "from keras.models import Sequential\n",
        "import keras.backend as K\n",
        "from keras.callbacks import EarlyStopping\n",
        "from keras import optimizers\n",
        "from tensorflow.keras.optimizers import Adamax, Adam, RMSprop \n",
        "from keras.models import load_model\n",
        "from keras.utils.vis_utils import plot_model\n",
        "import timeit\n",
        "from sklearn.metrics import make_scorer, r2_score, confusion_matrix, mean_squared_error\n",
        "from sklearn import metrics\n",
        "from math import sqrt\n",
        "import yfinance as yf \n",
        "\n",
        "# Tampilan layar\n",
        "pd.set_option('display.max_rows', 800)\n",
        "pd.set_option('display.max_columns', 500)"
      ],
      "execution_count": 2,
      "outputs": []
    },
    {
      "cell_type": "code",
      "metadata": {
        "id": "9zVMajLETV_b",
        "colab": {
          "base_uri": "https://localhost:8080/",
          "height": 254
        },
        "outputId": "33404e35-6d3c-48f1-f661-a4a216aff877"
      },
      "source": [
        "#Ambil Data\n",
        "emiten = \"DMAS\"\n",
        "kdemiten = emiten + \".jk\"\n",
        "#df = pd.read_csv(kdemiten,index_col='Date',parse_dates=True,infer_datetime_format=True)\n",
        "df = yf.download(kdemiten, period='max',parse_dates=True,infer_datetime_format=True)\n",
        "df.tail()"
      ],
      "execution_count": 3,
      "outputs": [
        {
          "output_type": "stream",
          "name": "stdout",
          "text": [
            "\r[*********************100%***********************]  1 of 1 completed\n"
          ]
        },
        {
          "output_type": "execute_result",
          "data": {
            "text/plain": [
              "             Open   High    Low  Close  Adj Close    Volume\n",
              "Date                                                       \n",
              "2022-03-07  189.0  190.0  184.0  185.0      185.0  55815400\n",
              "2022-03-08  185.0  191.0  182.0  182.0      182.0  55345500\n",
              "2022-03-09  183.0  188.0  182.0  186.0      186.0  52816000\n",
              "2022-03-10  187.0  190.0  187.0  188.0      188.0  59623700\n",
              "2022-03-11  188.0  190.0  187.0  189.0      189.0  26740700"
            ],
            "text/html": [
              "\n",
              "  <div id=\"df-39172e1d-0d8d-4c20-a5ca-47eec8943fe5\">\n",
              "    <div class=\"colab-df-container\">\n",
              "      <div>\n",
              "<style scoped>\n",
              "    .dataframe tbody tr th:only-of-type {\n",
              "        vertical-align: middle;\n",
              "    }\n",
              "\n",
              "    .dataframe tbody tr th {\n",
              "        vertical-align: top;\n",
              "    }\n",
              "\n",
              "    .dataframe thead th {\n",
              "        text-align: right;\n",
              "    }\n",
              "</style>\n",
              "<table border=\"1\" class=\"dataframe\">\n",
              "  <thead>\n",
              "    <tr style=\"text-align: right;\">\n",
              "      <th></th>\n",
              "      <th>Open</th>\n",
              "      <th>High</th>\n",
              "      <th>Low</th>\n",
              "      <th>Close</th>\n",
              "      <th>Adj Close</th>\n",
              "      <th>Volume</th>\n",
              "    </tr>\n",
              "    <tr>\n",
              "      <th>Date</th>\n",
              "      <th></th>\n",
              "      <th></th>\n",
              "      <th></th>\n",
              "      <th></th>\n",
              "      <th></th>\n",
              "      <th></th>\n",
              "    </tr>\n",
              "  </thead>\n",
              "  <tbody>\n",
              "    <tr>\n",
              "      <th>2022-03-07</th>\n",
              "      <td>189.0</td>\n",
              "      <td>190.0</td>\n",
              "      <td>184.0</td>\n",
              "      <td>185.0</td>\n",
              "      <td>185.0</td>\n",
              "      <td>55815400</td>\n",
              "    </tr>\n",
              "    <tr>\n",
              "      <th>2022-03-08</th>\n",
              "      <td>185.0</td>\n",
              "      <td>191.0</td>\n",
              "      <td>182.0</td>\n",
              "      <td>182.0</td>\n",
              "      <td>182.0</td>\n",
              "      <td>55345500</td>\n",
              "    </tr>\n",
              "    <tr>\n",
              "      <th>2022-03-09</th>\n",
              "      <td>183.0</td>\n",
              "      <td>188.0</td>\n",
              "      <td>182.0</td>\n",
              "      <td>186.0</td>\n",
              "      <td>186.0</td>\n",
              "      <td>52816000</td>\n",
              "    </tr>\n",
              "    <tr>\n",
              "      <th>2022-03-10</th>\n",
              "      <td>187.0</td>\n",
              "      <td>190.0</td>\n",
              "      <td>187.0</td>\n",
              "      <td>188.0</td>\n",
              "      <td>188.0</td>\n",
              "      <td>59623700</td>\n",
              "    </tr>\n",
              "    <tr>\n",
              "      <th>2022-03-11</th>\n",
              "      <td>188.0</td>\n",
              "      <td>190.0</td>\n",
              "      <td>187.0</td>\n",
              "      <td>189.0</td>\n",
              "      <td>189.0</td>\n",
              "      <td>26740700</td>\n",
              "    </tr>\n",
              "  </tbody>\n",
              "</table>\n",
              "</div>\n",
              "      <button class=\"colab-df-convert\" onclick=\"convertToInteractive('df-39172e1d-0d8d-4c20-a5ca-47eec8943fe5')\"\n",
              "              title=\"Convert this dataframe to an interactive table.\"\n",
              "              style=\"display:none;\">\n",
              "        \n",
              "  <svg xmlns=\"http://www.w3.org/2000/svg\" height=\"24px\"viewBox=\"0 0 24 24\"\n",
              "       width=\"24px\">\n",
              "    <path d=\"M0 0h24v24H0V0z\" fill=\"none\"/>\n",
              "    <path d=\"M18.56 5.44l.94 2.06.94-2.06 2.06-.94-2.06-.94-.94-2.06-.94 2.06-2.06.94zm-11 1L8.5 8.5l.94-2.06 2.06-.94-2.06-.94L8.5 2.5l-.94 2.06-2.06.94zm10 10l.94 2.06.94-2.06 2.06-.94-2.06-.94-.94-2.06-.94 2.06-2.06.94z\"/><path d=\"M17.41 7.96l-1.37-1.37c-.4-.4-.92-.59-1.43-.59-.52 0-1.04.2-1.43.59L10.3 9.45l-7.72 7.72c-.78.78-.78 2.05 0 2.83L4 21.41c.39.39.9.59 1.41.59.51 0 1.02-.2 1.41-.59l7.78-7.78 2.81-2.81c.8-.78.8-2.07 0-2.86zM5.41 20L4 18.59l7.72-7.72 1.47 1.35L5.41 20z\"/>\n",
              "  </svg>\n",
              "      </button>\n",
              "      \n",
              "  <style>\n",
              "    .colab-df-container {\n",
              "      display:flex;\n",
              "      flex-wrap:wrap;\n",
              "      gap: 12px;\n",
              "    }\n",
              "\n",
              "    .colab-df-convert {\n",
              "      background-color: #E8F0FE;\n",
              "      border: none;\n",
              "      border-radius: 50%;\n",
              "      cursor: pointer;\n",
              "      display: none;\n",
              "      fill: #1967D2;\n",
              "      height: 32px;\n",
              "      padding: 0 0 0 0;\n",
              "      width: 32px;\n",
              "    }\n",
              "\n",
              "    .colab-df-convert:hover {\n",
              "      background-color: #E2EBFA;\n",
              "      box-shadow: 0px 1px 2px rgba(60, 64, 67, 0.3), 0px 1px 3px 1px rgba(60, 64, 67, 0.15);\n",
              "      fill: #174EA6;\n",
              "    }\n",
              "\n",
              "    [theme=dark] .colab-df-convert {\n",
              "      background-color: #3B4455;\n",
              "      fill: #D2E3FC;\n",
              "    }\n",
              "\n",
              "    [theme=dark] .colab-df-convert:hover {\n",
              "      background-color: #434B5C;\n",
              "      box-shadow: 0px 1px 3px 1px rgba(0, 0, 0, 0.15);\n",
              "      filter: drop-shadow(0px 1px 2px rgba(0, 0, 0, 0.3));\n",
              "      fill: #FFFFFF;\n",
              "    }\n",
              "  </style>\n",
              "\n",
              "      <script>\n",
              "        const buttonEl =\n",
              "          document.querySelector('#df-39172e1d-0d8d-4c20-a5ca-47eec8943fe5 button.colab-df-convert');\n",
              "        buttonEl.style.display =\n",
              "          google.colab.kernel.accessAllowed ? 'block' : 'none';\n",
              "\n",
              "        async function convertToInteractive(key) {\n",
              "          const element = document.querySelector('#df-39172e1d-0d8d-4c20-a5ca-47eec8943fe5');\n",
              "          const dataTable =\n",
              "            await google.colab.kernel.invokeFunction('convertToInteractive',\n",
              "                                                     [key], {});\n",
              "          if (!dataTable) return;\n",
              "\n",
              "          const docLinkHtml = 'Like what you see? Visit the ' +\n",
              "            '<a target=\"_blank\" href=https://colab.research.google.com/notebooks/data_table.ipynb>data table notebook</a>'\n",
              "            + ' to learn more about interactive tables.';\n",
              "          element.innerHTML = '';\n",
              "          dataTable['output_type'] = 'display_data';\n",
              "          await google.colab.output.renderOutput(dataTable, element);\n",
              "          const docLink = document.createElement('div');\n",
              "          docLink.innerHTML = docLinkHtml;\n",
              "          element.appendChild(docLink);\n",
              "        }\n",
              "      </script>\n",
              "    </div>\n",
              "  </div>\n",
              "  "
            ]
          },
          "metadata": {},
          "execution_count": 3
        }
      ]
    },
    {
      "cell_type": "code",
      "metadata": {
        "id": "SjEcyWWuI-cU"
      },
      "source": [
        "agg_dict = {'Open': 'first',\n",
        "          'High': 'max',\n",
        "          'Low': 'min',\n",
        "          'Close': 'last',\n",
        "          'Adj Close': 'last',\n",
        "          'Volume': 'mean'}\n",
        "\n",
        "# resampled dataframe\n",
        "# 'W' means weekly aggregation\n",
        "df = df.resample('5D').agg(agg_dict)"
      ],
      "execution_count": 4,
      "outputs": []
    },
    {
      "cell_type": "code",
      "metadata": {
        "id": "kvpjhPr4JFKV",
        "colab": {
          "base_uri": "https://localhost:8080/",
          "height": 237
        },
        "outputId": "c54967fa-8403-46ff-8ff7-958a28ce0fd7"
      },
      "source": [
        "df.tail()"
      ],
      "execution_count": 5,
      "outputs": [
        {
          "output_type": "execute_result",
          "data": {
            "text/plain": [
              "             Open   High    Low  Close  Adj Close      Volume\n",
              "Date                                                         \n",
              "2022-02-16  190.0  198.0  189.0  195.0      195.0  27722200.0\n",
              "2022-02-21  195.0  197.0  188.0  189.0      189.0  23102800.0\n",
              "2022-02-26  190.0  192.0  188.0  190.0      190.0  21426150.0\n",
              "2022-03-03  190.0  191.0  184.0  185.0      185.0  37778050.0\n",
              "2022-03-08  185.0  191.0  182.0  189.0      189.0  48631475.0"
            ],
            "text/html": [
              "\n",
              "  <div id=\"df-63afce24-8a26-467e-872e-673eaee49861\">\n",
              "    <div class=\"colab-df-container\">\n",
              "      <div>\n",
              "<style scoped>\n",
              "    .dataframe tbody tr th:only-of-type {\n",
              "        vertical-align: middle;\n",
              "    }\n",
              "\n",
              "    .dataframe tbody tr th {\n",
              "        vertical-align: top;\n",
              "    }\n",
              "\n",
              "    .dataframe thead th {\n",
              "        text-align: right;\n",
              "    }\n",
              "</style>\n",
              "<table border=\"1\" class=\"dataframe\">\n",
              "  <thead>\n",
              "    <tr style=\"text-align: right;\">\n",
              "      <th></th>\n",
              "      <th>Open</th>\n",
              "      <th>High</th>\n",
              "      <th>Low</th>\n",
              "      <th>Close</th>\n",
              "      <th>Adj Close</th>\n",
              "      <th>Volume</th>\n",
              "    </tr>\n",
              "    <tr>\n",
              "      <th>Date</th>\n",
              "      <th></th>\n",
              "      <th></th>\n",
              "      <th></th>\n",
              "      <th></th>\n",
              "      <th></th>\n",
              "      <th></th>\n",
              "    </tr>\n",
              "  </thead>\n",
              "  <tbody>\n",
              "    <tr>\n",
              "      <th>2022-02-16</th>\n",
              "      <td>190.0</td>\n",
              "      <td>198.0</td>\n",
              "      <td>189.0</td>\n",
              "      <td>195.0</td>\n",
              "      <td>195.0</td>\n",
              "      <td>27722200.0</td>\n",
              "    </tr>\n",
              "    <tr>\n",
              "      <th>2022-02-21</th>\n",
              "      <td>195.0</td>\n",
              "      <td>197.0</td>\n",
              "      <td>188.0</td>\n",
              "      <td>189.0</td>\n",
              "      <td>189.0</td>\n",
              "      <td>23102800.0</td>\n",
              "    </tr>\n",
              "    <tr>\n",
              "      <th>2022-02-26</th>\n",
              "      <td>190.0</td>\n",
              "      <td>192.0</td>\n",
              "      <td>188.0</td>\n",
              "      <td>190.0</td>\n",
              "      <td>190.0</td>\n",
              "      <td>21426150.0</td>\n",
              "    </tr>\n",
              "    <tr>\n",
              "      <th>2022-03-03</th>\n",
              "      <td>190.0</td>\n",
              "      <td>191.0</td>\n",
              "      <td>184.0</td>\n",
              "      <td>185.0</td>\n",
              "      <td>185.0</td>\n",
              "      <td>37778050.0</td>\n",
              "    </tr>\n",
              "    <tr>\n",
              "      <th>2022-03-08</th>\n",
              "      <td>185.0</td>\n",
              "      <td>191.0</td>\n",
              "      <td>182.0</td>\n",
              "      <td>189.0</td>\n",
              "      <td>189.0</td>\n",
              "      <td>48631475.0</td>\n",
              "    </tr>\n",
              "  </tbody>\n",
              "</table>\n",
              "</div>\n",
              "      <button class=\"colab-df-convert\" onclick=\"convertToInteractive('df-63afce24-8a26-467e-872e-673eaee49861')\"\n",
              "              title=\"Convert this dataframe to an interactive table.\"\n",
              "              style=\"display:none;\">\n",
              "        \n",
              "  <svg xmlns=\"http://www.w3.org/2000/svg\" height=\"24px\"viewBox=\"0 0 24 24\"\n",
              "       width=\"24px\">\n",
              "    <path d=\"M0 0h24v24H0V0z\" fill=\"none\"/>\n",
              "    <path d=\"M18.56 5.44l.94 2.06.94-2.06 2.06-.94-2.06-.94-.94-2.06-.94 2.06-2.06.94zm-11 1L8.5 8.5l.94-2.06 2.06-.94-2.06-.94L8.5 2.5l-.94 2.06-2.06.94zm10 10l.94 2.06.94-2.06 2.06-.94-2.06-.94-.94-2.06-.94 2.06-2.06.94z\"/><path d=\"M17.41 7.96l-1.37-1.37c-.4-.4-.92-.59-1.43-.59-.52 0-1.04.2-1.43.59L10.3 9.45l-7.72 7.72c-.78.78-.78 2.05 0 2.83L4 21.41c.39.39.9.59 1.41.59.51 0 1.02-.2 1.41-.59l7.78-7.78 2.81-2.81c.8-.78.8-2.07 0-2.86zM5.41 20L4 18.59l7.72-7.72 1.47 1.35L5.41 20z\"/>\n",
              "  </svg>\n",
              "      </button>\n",
              "      \n",
              "  <style>\n",
              "    .colab-df-container {\n",
              "      display:flex;\n",
              "      flex-wrap:wrap;\n",
              "      gap: 12px;\n",
              "    }\n",
              "\n",
              "    .colab-df-convert {\n",
              "      background-color: #E8F0FE;\n",
              "      border: none;\n",
              "      border-radius: 50%;\n",
              "      cursor: pointer;\n",
              "      display: none;\n",
              "      fill: #1967D2;\n",
              "      height: 32px;\n",
              "      padding: 0 0 0 0;\n",
              "      width: 32px;\n",
              "    }\n",
              "\n",
              "    .colab-df-convert:hover {\n",
              "      background-color: #E2EBFA;\n",
              "      box-shadow: 0px 1px 2px rgba(60, 64, 67, 0.3), 0px 1px 3px 1px rgba(60, 64, 67, 0.15);\n",
              "      fill: #174EA6;\n",
              "    }\n",
              "\n",
              "    [theme=dark] .colab-df-convert {\n",
              "      background-color: #3B4455;\n",
              "      fill: #D2E3FC;\n",
              "    }\n",
              "\n",
              "    [theme=dark] .colab-df-convert:hover {\n",
              "      background-color: #434B5C;\n",
              "      box-shadow: 0px 1px 3px 1px rgba(0, 0, 0, 0.15);\n",
              "      filter: drop-shadow(0px 1px 2px rgba(0, 0, 0, 0.3));\n",
              "      fill: #FFFFFF;\n",
              "    }\n",
              "  </style>\n",
              "\n",
              "      <script>\n",
              "        const buttonEl =\n",
              "          document.querySelector('#df-63afce24-8a26-467e-872e-673eaee49861 button.colab-df-convert');\n",
              "        buttonEl.style.display =\n",
              "          google.colab.kernel.accessAllowed ? 'block' : 'none';\n",
              "\n",
              "        async function convertToInteractive(key) {\n",
              "          const element = document.querySelector('#df-63afce24-8a26-467e-872e-673eaee49861');\n",
              "          const dataTable =\n",
              "            await google.colab.kernel.invokeFunction('convertToInteractive',\n",
              "                                                     [key], {});\n",
              "          if (!dataTable) return;\n",
              "\n",
              "          const docLinkHtml = 'Like what you see? Visit the ' +\n",
              "            '<a target=\"_blank\" href=https://colab.research.google.com/notebooks/data_table.ipynb>data table notebook</a>'\n",
              "            + ' to learn more about interactive tables.';\n",
              "          element.innerHTML = '';\n",
              "          dataTable['output_type'] = 'display_data';\n",
              "          await google.colab.output.renderOutput(dataTable, element);\n",
              "          const docLink = document.createElement('div');\n",
              "          docLink.innerHTML = docLinkHtml;\n",
              "          element.appendChild(docLink);\n",
              "        }\n",
              "      </script>\n",
              "    </div>\n",
              "  </div>\n",
              "  "
            ]
          },
          "metadata": {},
          "execution_count": 5
        }
      ]
    },
    {
      "cell_type": "code",
      "metadata": {
        "id": "uNBsVcgtpc00",
        "colab": {
          "base_uri": "https://localhost:8080/"
        },
        "outputId": "df91ac69-2f35-4e33-ee76-db9cb79e962a"
      },
      "source": [
        "df.info()"
      ],
      "execution_count": 6,
      "outputs": [
        {
          "output_type": "stream",
          "name": "stdout",
          "text": [
            "<class 'pandas.core.frame.DataFrame'>\n",
            "DatetimeIndex: 496 entries, 2015-05-29 to 2022-03-08\n",
            "Freq: 5D\n",
            "Data columns (total 6 columns):\n",
            " #   Column     Non-Null Count  Dtype  \n",
            "---  ------     --------------  -----  \n",
            " 0   Open       493 non-null    float64\n",
            " 1   High       493 non-null    float64\n",
            " 2   Low        493 non-null    float64\n",
            " 3   Close      493 non-null    float64\n",
            " 4   Adj Close  493 non-null    float64\n",
            " 5   Volume     493 non-null    float64\n",
            "dtypes: float64(6)\n",
            "memory usage: 27.1 KB\n"
          ]
        }
      ]
    },
    {
      "cell_type": "code",
      "metadata": {
        "id": "Q_Uim7PZTtCn",
        "colab": {
          "base_uri": "https://localhost:8080/"
        },
        "outputId": "9eed83ff-142d-40db-cd9c-31a01e70621e"
      },
      "source": [
        "#Print the shape of Dataframe  and Check for Null Values\n",
        "print(\"Dataframe Shape: \", df. shape)\n",
        "print(\"Null Value Present: \", df.isnull().values.any())"
      ],
      "execution_count": 7,
      "outputs": [
        {
          "output_type": "stream",
          "name": "stdout",
          "text": [
            "Dataframe Shape:  (496, 6)\n",
            "Null Value Present:  True\n"
          ]
        }
      ]
    },
    {
      "cell_type": "code",
      "source": [
        "df = df.fillna(method = \"ffill\")"
      ],
      "metadata": {
        "id": "iHqLzFdeZc_D"
      },
      "execution_count": 8,
      "outputs": []
    },
    {
      "cell_type": "code",
      "metadata": {
        "id": "0Hg-PYHgT5Ye",
        "colab": {
          "base_uri": "https://localhost:8080/",
          "height": 298
        },
        "outputId": "fee5fea7-6edb-47d0-8b66-1459dcefad17"
      },
      "source": [
        "#Plot the True Adj Close Value\n",
        "df[\"Close\"].plot()"
      ],
      "execution_count": 9,
      "outputs": [
        {
          "output_type": "execute_result",
          "data": {
            "text/plain": [
              "<matplotlib.axes._subplots.AxesSubplot at 0x7f6df0e646d0>"
            ]
          },
          "metadata": {},
          "execution_count": 9
        },
        {
          "output_type": "display_data",
          "data": {
            "text/plain": [
              "<Figure size 432x288 with 1 Axes>"
            ],
            "image/png": "[encoded data removed]"
          },
          "metadata": {
            "needs_background": "light"
          }
        }
      ]
    },
    {
      "cell_type": "code",
      "metadata": {
        "id": "aC3cHPHhUDSM"
      },
      "source": [
        "#Set Target Variable\n",
        "output_var = pd.DataFrame(df['Close'])\n",
        "#Selecting the Features\n",
        "features = ['Open', 'High', 'Low', 'Volume']"
      ],
      "execution_count": 10,
      "outputs": []
    },
    {
      "cell_type": "code",
      "metadata": {
        "id": "pdaU_iAmUTQd",
        "colab": {
          "base_uri": "https://localhost:8080/",
          "height": 237
        },
        "outputId": "169d90ee-18dd-4b99-a8e4-e2cc714b806a"
      },
      "source": [
        "#Scaling\n",
        "scaler = StandardScaler()# standar scaler lebih baik\n",
        "#scaler = MinMaxScaler()\n",
        "feature_transform = scaler.fit_transform(df[features])\n",
        "feature_transform= pd.DataFrame(columns=features, data=feature_transform, index=df.index)\n",
        "feature_transform.head()"
      ],
      "execution_count": 11,
      "outputs": [
        {
          "output_type": "execute_result",
          "data": {
            "text/plain": [
              "                Open      High       Low     Volume\n",
              "Date                                               \n",
              "2015-05-29  0.270854  0.276110  0.097220  10.274509\n",
              "2015-06-03  0.156810  0.120862  0.239675   0.159124\n",
              "2015-06-08  0.134001 -0.012207  0.049735  -0.010150\n",
              "2015-06-13  0.019958 -0.034385  0.097220  -0.496881\n",
              "2015-06-18  0.065575  0.009971  0.168448  -0.728232"
            ],
            "text/html": [
              "\n",
              "  <div id=\"df-7e4adc42-a1c6-48be-be1f-604c0bd4115b\">\n",
              "    <div class=\"colab-df-container\">\n",
              "      <div>\n",
              "<style scoped>\n",
              "    .dataframe tbody tr th:only-of-type {\n",
              "        vertical-align: middle;\n",
              "    }\n",
              "\n",
              "    .dataframe tbody tr th {\n",
              "        vertical-align: top;\n",
              "    }\n",
              "\n",
              "    .dataframe thead th {\n",
              "        text-align: right;\n",
              "    }\n",
              "</style>\n",
              "<table border=\"1\" class=\"dataframe\">\n",
              "  <thead>\n",
              "    <tr style=\"text-align: right;\">\n",
              "      <th></th>\n",
              "      <th>Open</th>\n",
              "      <th>High</th>\n",
              "      <th>Low</th>\n",
              "      <th>Volume</th>\n",
              "    </tr>\n",
              "    <tr>\n",
              "      <th>Date</th>\n",
              "      <th></th>\n",
              "      <th></th>\n",
              "      <th></th>\n",
              "      <th></th>\n",
              "    </tr>\n",
              "  </thead>\n",
              "  <tbody>\n",
              "    <tr>\n",
              "      <th>2015-05-29</th>\n",
              "      <td>0.270854</td>\n",
              "      <td>0.276110</td>\n",
              "      <td>0.097220</td>\n",
              "      <td>10.274509</td>\n",
              "    </tr>\n",
              "    <tr>\n",
              "      <th>2015-06-03</th>\n",
              "      <td>0.156810</td>\n",
              "      <td>0.120862</td>\n",
              "      <td>0.239675</td>\n",
              "      <td>0.159124</td>\n",
              "    </tr>\n",
              "    <tr>\n",
              "      <th>2015-06-08</th>\n",
              "      <td>0.134001</td>\n",
              "      <td>-0.012207</td>\n",
              "      <td>0.049735</td>\n",
              "      <td>-0.010150</td>\n",
              "    </tr>\n",
              "    <tr>\n",
              "      <th>2015-06-13</th>\n",
              "      <td>0.019958</td>\n",
              "      <td>-0.034385</td>\n",
              "      <td>0.097220</td>\n",
              "      <td>-0.496881</td>\n",
              "    </tr>\n",
              "    <tr>\n",
              "      <th>2015-06-18</th>\n",
              "      <td>0.065575</td>\n",
              "      <td>0.009971</td>\n",
              "      <td>0.168448</td>\n",
              "      <td>-0.728232</td>\n",
              "    </tr>\n",
              "  </tbody>\n",
              "</table>\n",
              "</div>\n",
              "      <button class=\"colab-df-convert\" onclick=\"convertToInteractive('df-7e4adc42-a1c6-48be-be1f-604c0bd4115b')\"\n",
              "              title=\"Convert this dataframe to an interactive table.\"\n",
              "              style=\"display:none;\">\n",
              "        \n",
              "  <svg xmlns=\"http://www.w3.org/2000/svg\" height=\"24px\"viewBox=\"0 0 24 24\"\n",
              "       width=\"24px\">\n",
              "    <path d=\"M0 0h24v24H0V0z\" fill=\"none\"/>\n",
              "    <path d=\"M18.56 5.44l.94 2.06.94-2.06 2.06-.94-2.06-.94-.94-2.06-.94 2.06-2.06.94zm-11 1L8.5 8.5l.94-2.06 2.06-.94-2.06-.94L8.5 2.5l-.94 2.06-2.06.94zm10 10l.94 2.06.94-2.06 2.06-.94-2.06-.94-.94-2.06-.94 2.06-2.06.94z\"/><path d=\"M17.41 7.96l-1.37-1.37c-.4-.4-.92-.59-1.43-.59-.52 0-1.04.2-1.43.59L10.3 9.45l-7.72 7.72c-.78.78-.78 2.05 0 2.83L4 21.41c.39.39.9.59 1.41.59.51 0 1.02-.2 1.41-.59l7.78-7.78 2.81-2.81c.8-.78.8-2.07 0-2.86zM5.41 20L4 18.59l7.72-7.72 1.47 1.35L5.41 20z\"/>\n",
              "  </svg>\n",
              "      </button>\n",
              "      \n",
              "  <style>\n",
              "    .colab-df-container {\n",
              "      display:flex;\n",
              "      flex-wrap:wrap;\n",
              "      gap: 12px;\n",
              "    }\n",
              "\n",
              "    .colab-df-convert {\n",
              "      background-color: #E8F0FE;\n",
              "      border: none;\n",
              "      border-radius: 50%;\n",
              "      cursor: pointer;\n",
              "      display: none;\n",
              "      fill: #1967D2;\n",
              "      height: 32px;\n",
              "      padding: 0 0 0 0;\n",
              "      width: 32px;\n",
              "    }\n",
              "\n",
              "    .colab-df-convert:hover {\n",
              "      background-color: #E2EBFA;\n",
              "      box-shadow: 0px 1px 2px rgba(60, 64, 67, 0.3), 0px 1px 3px 1px rgba(60, 64, 67, 0.15);\n",
              "      fill: #174EA6;\n",
              "    }\n",
              "\n",
              "    [theme=dark] .colab-df-convert {\n",
              "      background-color: #3B4455;\n",
              "      fill: #D2E3FC;\n",
              "    }\n",
              "\n",
              "    [theme=dark] .colab-df-convert:hover {\n",
              "      background-color: #434B5C;\n",
              "      box-shadow: 0px 1px 3px 1px rgba(0, 0, 0, 0.15);\n",
              "      filter: drop-shadow(0px 1px 2px rgba(0, 0, 0, 0.3));\n",
              "      fill: #FFFFFF;\n",
              "    }\n",
              "  </style>\n",
              "\n",
              "      <script>\n",
              "        const buttonEl =\n",
              "          document.querySelector('#df-7e4adc42-a1c6-48be-be1f-604c0bd4115b button.colab-df-convert');\n",
              "        buttonEl.style.display =\n",
              "          google.colab.kernel.accessAllowed ? 'block' : 'none';\n",
              "\n",
              "        async function convertToInteractive(key) {\n",
              "          const element = document.querySelector('#df-7e4adc42-a1c6-48be-be1f-604c0bd4115b');\n",
              "          const dataTable =\n",
              "            await google.colab.kernel.invokeFunction('convertToInteractive',\n",
              "                                                     [key], {});\n",
              "          if (!dataTable) return;\n",
              "\n",
              "          const docLinkHtml = 'Like what you see? Visit the ' +\n",
              "            '<a target=\"_blank\" href=https://colab.research.google.com/notebooks/data_table.ipynb>data table notebook</a>'\n",
              "            + ' to learn more about interactive tables.';\n",
              "          element.innerHTML = '';\n",
              "          dataTable['output_type'] = 'display_data';\n",
              "          await google.colab.output.renderOutput(dataTable, element);\n",
              "          const docLink = document.createElement('div');\n",
              "          docLink.innerHTML = docLinkHtml;\n",
              "          element.appendChild(docLink);\n",
              "        }\n",
              "      </script>\n",
              "    </div>\n",
              "  </div>\n",
              "  "
            ]
          },
          "metadata": {},
          "execution_count": 11
        }
      ]
    },
    {
      "cell_type": "code",
      "metadata": {
        "id": "LBGysbtuUZpU"
      },
      "source": [
        "#Splitting to Training set and Test set\n",
        "timesplit= TimeSeriesSplit(n_splits=10)\n",
        "for train_index, test_index in timesplit.split(feature_transform):\n",
        "        X_train, X_test = feature_transform[:len(train_index)], feature_transform[len(train_index): (len(train_index)+len(test_index))]\n",
        "        y_train, y_test = output_var[:len(train_index)].values.ravel(), output_var[len(train_index): (len(train_index)+len(test_index))].values.ravel()"
      ],
      "execution_count": 12,
      "outputs": []
    },
    {
      "cell_type": "code",
      "metadata": {
        "id": "X66MjDLDUdXX"
      },
      "source": [
        "#Process the data for LSTM\n",
        "trainX =np.array(X_train)\n",
        "testX =np.array(X_test)\n",
        "X_train = trainX.reshape(X_train.shape[0], 1, X_train.shape[1])\n",
        "X_test = testX.reshape(X_test.shape[0], 1, X_test.shape[1])"
      ],
      "execution_count": 13,
      "outputs": []
    },
    {
      "cell_type": "code",
      "metadata": {
        "id": "0xHlXytWUf2u",
        "colab": {
          "base_uri": "https://localhost:8080/"
        },
        "outputId": "4246b5e6-e691-4e45-c4f3-0129c9b0a9b2"
      },
      "source": [
        "#Rencana Model\n",
        "\n",
        "jml_epochs= 100\n",
        "input_optimasi = 'Adam'\n",
        "input_lr = '001'\n",
        "\n",
        "#Set optimizer\n",
        "if input_lr == '01':\n",
        "  lr=0.1\n",
        "elif input_lr == '001':\n",
        "  lr=0.01\n",
        "elif input_lr == '0001':\n",
        "  lr=0.001\n",
        "\n",
        "if input_optimasi == 'SGD':\n",
        "  opt = SGD(learning_rate=lr, momentum=0.9)\n",
        "elif input_optimasi == 'Adam':\n",
        "  opt = Adam(learning_rate=lr)\n",
        "elif input_optimasi == 'RMSprop':\n",
        "  opt = RMSprop(learning_rate=lr)\n",
        "\n",
        "\n",
        "model = Sequential()\n",
        "model.add(SimpleRNN(32, input_dim=len(features), activation='relu', kernel_initializer='he_normal'))\n",
        "#model.add(Dense(10, activation='relu', kernel_initializer='he_normal'))\n",
        "model.add(Dense(1, activation='linear'))\n",
        "model.compile(loss='mean_squared_error', optimizer=opt, metrics=['mae','mse'])\n",
        "\n",
        "model.summary()\n",
        "#plot_model(model, show_shapes=True, show_layer_names=True)"
      ],
      "execution_count": 14,
      "outputs": [
        {
          "output_type": "stream",
          "name": "stdout",
          "text": [
            "Model: \"sequential\"\n",
            "_________________________________________________________________\n",
            " Layer (type)                Output Shape              Param #   \n",
            "=================================================================\n",
            " simple_rnn (SimpleRNN)      (None, 32)                1184      \n",
            "                                                                 \n",
            " dense (Dense)               (None, 1)                 33        \n",
            "                                                                 \n",
            "=================================================================\n",
            "Total params: 1,217\n",
            "Trainable params: 1,217\n",
            "Non-trainable params: 0\n",
            "_________________________________________________________________\n"
          ]
        }
      ]
    },
    {
      "cell_type": "code",
      "metadata": {
        "id": "9i2t1gNDU1uC",
        "colab": {
          "base_uri": "https://localhost:8080/"
        },
        "outputId": "9b904fe5-fb58-4d07-fe3f-aae4e81920c2"
      },
      "source": [
        "#Model Training\n",
        "\n",
        "start = timeit.default_timer()\n",
        "history=model.fit(X_train, y_train, epochs=jml_epochs, batch_size=16, verbose=1, shuffle=False)\n",
        "stop = timeit.default_timer()"
      ],
      "execution_count": 15,
      "outputs": [
        {
          "output_type": "stream",
          "name": "stdout",
          "text": [
            "Epoch 1/100\n",
            "29/29 [==============================] - 4s 8ms/step - loss: 47205.6953 - mae: 212.4538 - mse: 47205.6953\n",
            "Epoch 2/100\n",
            "29/29 [==============================] - 0s 8ms/step - loss: 44717.0625 - mae: 206.5883 - mse: 44717.0625\n",
            "Epoch 3/100\n",
            "29/29 [==============================] - 0s 9ms/step - loss: 40819.8750 - mae: 196.9386 - mse: 40819.8750\n",
            "Epoch 4/100\n",
            "29/29 [==============================] - 0s 10ms/step - loss: 35028.4648 - mae: 181.4549 - mse: 35028.4648\n",
            "Epoch 5/100\n",
            "29/29 [==============================] - 0s 10ms/step - loss: 27781.0234 - mae: 159.5287 - mse: 27781.0234\n",
            "Epoch 6/100\n",
            "29/29 [==============================] - 0s 9ms/step - loss: 20118.9766 - mae: 132.6203 - mse: 20118.9766\n",
            "Epoch 7/100\n",
            "29/29 [==============================] - 0s 7ms/step - loss: 13371.4688 - mae: 107.5666 - mse: 13371.4688\n",
            "Epoch 8/100\n",
            "29/29 [==============================] - 0s 10ms/step - loss: 8639.8096 - mae: 84.4720 - mse: 8639.8096\n",
            "Epoch 9/100\n",
            "29/29 [==============================] - 0s 11ms/step - loss: 5963.4722 - mae: 70.5684 - mse: 5963.4722\n",
            "Epoch 10/100\n",
            "29/29 [==============================] - 0s 9ms/step - loss: 4487.8413 - mae: 61.4879 - mse: 4487.8413\n",
            "Epoch 11/100\n",
            "29/29 [==============================] - 0s 10ms/step - loss: 3452.3259 - mae: 53.5459 - mse: 3452.3259\n",
            "Epoch 12/100\n",
            "29/29 [==============================] - 0s 9ms/step - loss: 2637.6326 - mae: 46.1972 - mse: 2637.6326\n",
            "Epoch 13/100\n",
            "29/29 [==============================] - 0s 8ms/step - loss: 2018.4458 - mae: 39.7411 - mse: 2018.4458\n",
            "Epoch 14/100\n",
            "29/29 [==============================] - 0s 7ms/step - loss: 1575.9581 - mae: 34.3429 - mse: 1575.9581\n",
            "Epoch 15/100\n",
            "29/29 [==============================] - 0s 8ms/step - loss: 1252.3276 - mae: 29.8719 - mse: 1252.3276\n",
            "Epoch 16/100\n",
            "29/29 [==============================] - 0s 10ms/step - loss: 1012.6177 - mae: 26.2155 - mse: 1012.6177\n",
            "Epoch 17/100\n",
            "29/29 [==============================] - 0s 10ms/step - loss: 835.1209 - mae: 23.2607 - mse: 835.1209\n",
            "Epoch 18/100\n",
            "29/29 [==============================] - 0s 9ms/step - loss: 704.1395 - mae: 20.9142 - mse: 704.1395\n",
            "Epoch 19/100\n",
            "29/29 [==============================] - 0s 8ms/step - loss: 600.1763 - mae: 19.0135 - mse: 600.1763\n",
            "Epoch 20/100\n",
            "29/29 [==============================] - 0s 9ms/step - loss: 517.3958 - mae: 17.4147 - mse: 517.3958\n",
            "Epoch 21/100\n",
            "29/29 [==============================] - 0s 9ms/step - loss: 450.7057 - mae: 16.0516 - mse: 450.7057\n",
            "Epoch 22/100\n",
            "29/29 [==============================] - 0s 9ms/step - loss: 397.4616 - mae: 14.8974 - mse: 397.4616\n",
            "Epoch 23/100\n",
            "29/29 [==============================] - 0s 12ms/step - loss: 354.2081 - mae: 13.9090 - mse: 354.2081\n",
            "Epoch 24/100\n",
            "29/29 [==============================] - 0s 12ms/step - loss: 317.8240 - mae: 13.0395 - mse: 317.8240\n",
            "Epoch 25/100\n",
            "29/29 [==============================] - 0s 9ms/step - loss: 286.7975 - mae: 12.2674 - mse: 286.7975\n",
            "Epoch 26/100\n",
            "29/29 [==============================] - 0s 9ms/step - loss: 260.1032 - mae: 11.5938 - mse: 260.1032\n",
            "Epoch 27/100\n",
            "29/29 [==============================] - 0s 8ms/step - loss: 237.4342 - mae: 11.0099 - mse: 237.4342\n",
            "Epoch 28/100\n",
            "29/29 [==============================] - 0s 7ms/step - loss: 217.8603 - mae: 10.5003 - mse: 217.8603\n",
            "Epoch 29/100\n",
            "29/29 [==============================] - 0s 7ms/step - loss: 200.6386 - mae: 10.0449 - mse: 200.6386\n",
            "Epoch 30/100\n",
            "29/29 [==============================] - 0s 8ms/step - loss: 185.6151 - mae: 9.6345 - mse: 185.6151\n",
            "Epoch 31/100\n",
            "29/29 [==============================] - 0s 8ms/step - loss: 172.2612 - mae: 9.2613 - mse: 172.2612\n",
            "Epoch 32/100\n",
            "29/29 [==============================] - 0s 7ms/step - loss: 160.2926 - mae: 8.9132 - mse: 160.2926\n",
            "Epoch 33/100\n",
            "29/29 [==============================] - 0s 9ms/step - loss: 149.4989 - mae: 8.5894 - mse: 149.4989\n",
            "Epoch 34/100\n",
            "29/29 [==============================] - 0s 8ms/step - loss: 139.6536 - mae: 8.2878 - mse: 139.6536\n",
            "Epoch 35/100\n",
            "29/29 [==============================] - 0s 9ms/step - loss: 130.5612 - mae: 7.9982 - mse: 130.5612\n",
            "Epoch 36/100\n",
            "29/29 [==============================] - 0s 7ms/step - loss: 122.2169 - mae: 7.7333 - mse: 122.2169\n",
            "Epoch 37/100\n",
            "29/29 [==============================] - 0s 8ms/step - loss: 114.2080 - mae: 7.4726 - mse: 114.2080\n",
            "Epoch 38/100\n",
            "29/29 [==============================] - 0s 7ms/step - loss: 107.1330 - mae: 7.2354 - mse: 107.1330\n",
            "Epoch 39/100\n",
            "29/29 [==============================] - 0s 10ms/step - loss: 100.2849 - mae: 7.0041 - mse: 100.2849\n",
            "Epoch 40/100\n",
            "29/29 [==============================] - 0s 9ms/step - loss: 93.9422 - mae: 6.7761 - mse: 93.9422\n",
            "Epoch 41/100\n",
            "29/29 [==============================] - 0s 9ms/step - loss: 88.1631 - mae: 6.5615 - mse: 88.1631\n",
            "Epoch 42/100\n",
            "29/29 [==============================] - 0s 8ms/step - loss: 82.6326 - mae: 6.3551 - mse: 82.6326\n",
            "Epoch 43/100\n",
            "29/29 [==============================] - 0s 10ms/step - loss: 77.7162 - mae: 6.1689 - mse: 77.7162\n",
            "Epoch 44/100\n",
            "29/29 [==============================] - 0s 8ms/step - loss: 73.3002 - mae: 6.0063 - mse: 73.3002\n",
            "Epoch 45/100\n",
            "29/29 [==============================] - 0s 8ms/step - loss: 69.2243 - mae: 5.8570 - mse: 69.2243\n",
            "Epoch 46/100\n",
            "29/29 [==============================] - 0s 9ms/step - loss: 65.3257 - mae: 5.7123 - mse: 65.3257\n",
            "Epoch 47/100\n",
            "29/29 [==============================] - 0s 9ms/step - loss: 61.5043 - mae: 5.5678 - mse: 61.5043\n",
            "Epoch 48/100\n",
            "29/29 [==============================] - 0s 7ms/step - loss: 58.6841 - mae: 5.4467 - mse: 58.6841\n",
            "Epoch 49/100\n",
            "29/29 [==============================] - 0s 8ms/step - loss: 55.6159 - mae: 5.3245 - mse: 55.6159\n",
            "Epoch 50/100\n",
            "29/29 [==============================] - 0s 10ms/step - loss: 52.9071 - mae: 5.2062 - mse: 52.9071\n",
            "Epoch 51/100\n",
            "29/29 [==============================] - 0s 10ms/step - loss: 50.8784 - mae: 5.1167 - mse: 50.8784\n",
            "Epoch 52/100\n",
            "29/29 [==============================] - 0s 9ms/step - loss: 48.6184 - mae: 5.0280 - mse: 48.6184\n",
            "Epoch 53/100\n",
            "29/29 [==============================] - 0s 10ms/step - loss: 46.8054 - mae: 4.9515 - mse: 46.8054\n",
            "Epoch 54/100\n",
            "29/29 [==============================] - 0s 8ms/step - loss: 45.0234 - mae: 4.8700 - mse: 45.0234\n",
            "Epoch 55/100\n",
            "29/29 [==============================] - 0s 10ms/step - loss: 43.6440 - mae: 4.8045 - mse: 43.6440\n",
            "Epoch 56/100\n",
            "29/29 [==============================] - 0s 8ms/step - loss: 42.2455 - mae: 4.7450 - mse: 42.2455\n",
            "Epoch 57/100\n",
            "29/29 [==============================] - 0s 9ms/step - loss: 41.0229 - mae: 4.6890 - mse: 41.0229\n",
            "Epoch 58/100\n",
            "29/29 [==============================] - 0s 9ms/step - loss: 40.1120 - mae: 4.6462 - mse: 40.1120\n",
            "Epoch 59/100\n",
            "29/29 [==============================] - 0s 9ms/step - loss: 39.1537 - mae: 4.6064 - mse: 39.1537\n",
            "Epoch 60/100\n",
            "29/29 [==============================] - 0s 9ms/step - loss: 38.1006 - mae: 4.5546 - mse: 38.1006\n",
            "Epoch 61/100\n",
            "29/29 [==============================] - 0s 9ms/step - loss: 37.6104 - mae: 4.5274 - mse: 37.6104\n",
            "Epoch 62/100\n",
            "29/29 [==============================] - 0s 11ms/step - loss: 36.7772 - mae: 4.4879 - mse: 36.7772\n",
            "Epoch 63/100\n",
            "29/29 [==============================] - 0s 9ms/step - loss: 36.0867 - mae: 4.4504 - mse: 36.0867\n",
            "Epoch 64/100\n",
            "29/29 [==============================] - 0s 9ms/step - loss: 35.5262 - mae: 4.4184 - mse: 35.5262\n",
            "Epoch 65/100\n",
            "29/29 [==============================] - 0s 11ms/step - loss: 35.0188 - mae: 4.3917 - mse: 35.0188\n",
            "Epoch 66/100\n",
            "29/29 [==============================] - 0s 9ms/step - loss: 34.3911 - mae: 4.3577 - mse: 34.3911\n",
            "Epoch 67/100\n",
            "29/29 [==============================] - 0s 10ms/step - loss: 34.0048 - mae: 4.3337 - mse: 34.0048\n",
            "Epoch 68/100\n",
            "29/29 [==============================] - 0s 10ms/step - loss: 33.4854 - mae: 4.3046 - mse: 33.4854\n",
            "Epoch 69/100\n",
            "29/29 [==============================] - 0s 10ms/step - loss: 33.0631 - mae: 4.2793 - mse: 33.0631\n",
            "Epoch 70/100\n",
            "29/29 [==============================] - 0s 11ms/step - loss: 32.6264 - mae: 4.2524 - mse: 32.6264\n",
            "Epoch 71/100\n",
            "29/29 [==============================] - 0s 11ms/step - loss: 32.2533 - mae: 4.2287 - mse: 32.2533\n",
            "Epoch 72/100\n",
            "29/29 [==============================] - 0s 9ms/step - loss: 31.8959 - mae: 4.2067 - mse: 31.8959\n",
            "Epoch 73/100\n",
            "29/29 [==============================] - 0s 9ms/step - loss: 31.4987 - mae: 4.1819 - mse: 31.4987\n",
            "Epoch 74/100\n",
            "29/29 [==============================] - 0s 9ms/step - loss: 31.1426 - mae: 4.1584 - mse: 31.1426\n",
            "Epoch 75/100\n",
            "29/29 [==============================] - 0s 10ms/step - loss: 30.8102 - mae: 4.1361 - mse: 30.8102\n",
            "Epoch 76/100\n",
            "29/29 [==============================] - 0s 9ms/step - loss: 30.4650 - mae: 4.1136 - mse: 30.4650\n",
            "Epoch 77/100\n",
            "29/29 [==============================] - 0s 10ms/step - loss: 30.2167 - mae: 4.0952 - mse: 30.2167\n",
            "Epoch 78/100\n",
            "29/29 [==============================] - 0s 8ms/step - loss: 29.8560 - mae: 4.0731 - mse: 29.8560\n",
            "Epoch 79/100\n",
            "29/29 [==============================] - 0s 9ms/step - loss: 29.6407 - mae: 4.0574 - mse: 29.6407\n",
            "Epoch 80/100\n",
            "29/29 [==============================] - 0s 8ms/step - loss: 29.3008 - mae: 4.0378 - mse: 29.3008\n",
            "Epoch 81/100\n",
            "29/29 [==============================] - 0s 9ms/step - loss: 28.9844 - mae: 4.0181 - mse: 28.9844\n",
            "Epoch 82/100\n",
            "29/29 [==============================] - 0s 7ms/step - loss: 28.7837 - mae: 4.0030 - mse: 28.7837\n",
            "Epoch 83/100\n",
            "29/29 [==============================] - 0s 8ms/step - loss: 28.3951 - mae: 3.9812 - mse: 28.3951\n",
            "Epoch 84/100\n",
            "29/29 [==============================] - 0s 9ms/step - loss: 28.2107 - mae: 3.9665 - mse: 28.2107\n",
            "Epoch 85/100\n",
            "29/29 [==============================] - 0s 8ms/step - loss: 27.9172 - mae: 3.9470 - mse: 27.9172\n",
            "Epoch 86/100\n",
            "29/29 [==============================] - 0s 7ms/step - loss: 27.6457 - mae: 3.9295 - mse: 27.6457\n",
            "Epoch 87/100\n",
            "29/29 [==============================] - 0s 8ms/step - loss: 27.3507 - mae: 3.9110 - mse: 27.3507\n",
            "Epoch 88/100\n",
            "29/29 [==============================] - 0s 8ms/step - loss: 27.1078 - mae: 3.8949 - mse: 27.1078\n",
            "Epoch 89/100\n",
            "29/29 [==============================] - 0s 8ms/step - loss: 26.9030 - mae: 3.8785 - mse: 26.9030\n",
            "Epoch 90/100\n",
            "29/29 [==============================] - 0s 8ms/step - loss: 26.6040 - mae: 3.8602 - mse: 26.6040\n",
            "Epoch 91/100\n",
            "29/29 [==============================] - 0s 11ms/step - loss: 26.3953 - mae: 3.8455 - mse: 26.3953\n",
            "Epoch 92/100\n",
            "29/29 [==============================] - 0s 11ms/step - loss: 26.1239 - mae: 3.8293 - mse: 26.1239\n",
            "Epoch 93/100\n",
            "29/29 [==============================] - 0s 11ms/step - loss: 25.9286 - mae: 3.8150 - mse: 25.9286\n",
            "Epoch 94/100\n",
            "29/29 [==============================] - 0s 8ms/step - loss: 25.7036 - mae: 3.8003 - mse: 25.7036\n",
            "Epoch 95/100\n",
            "29/29 [==============================] - 0s 9ms/step - loss: 25.5294 - mae: 3.7857 - mse: 25.5294\n",
            "Epoch 96/100\n",
            "29/29 [==============================] - 0s 8ms/step - loss: 25.2955 - mae: 3.7704 - mse: 25.2955\n",
            "Epoch 97/100\n",
            "29/29 [==============================] - 0s 8ms/step - loss: 25.1137 - mae: 3.7562 - mse: 25.1137\n",
            "Epoch 98/100\n",
            "29/29 [==============================] - 0s 8ms/step - loss: 24.9243 - mae: 3.7423 - mse: 24.9243\n",
            "Epoch 99/100\n",
            "29/29 [==============================] - 0s 12ms/step - loss: 24.7258 - mae: 3.7282 - mse: 24.7258\n",
            "Epoch 100/100\n",
            "29/29 [==============================] - 0s 9ms/step - loss: 24.5908 - mae: 3.7175 - mse: 24.5908\n"
          ]
        }
      ]
    },
    {
      "cell_type": "code",
      "metadata": {
        "id": "3m7Ach-RWqGn"
      },
      "source": [
        "#LSTM Prediction\n",
        "y_pred= model.predict(X_test)"
      ],
      "execution_count": 16,
      "outputs": []
    },
    {
      "cell_type": "code",
      "metadata": {
        "id": "gIUmsnTuXdhb",
        "colab": {
          "base_uri": "https://localhost:8080/"
        },
        "outputId": "c954510a-690a-4cf6-ca64-96095f0c5b87"
      },
      "source": [
        "print ('R Squared =',r2_score(y_test, y_pred))\n",
        "ORCL_R2_MODEL = r2_score(y_test, y_pred)\n",
        "\n",
        "print('Mean Absolute Error:', metrics.mean_absolute_error(y_test, y_pred))\n",
        "ORCL_MAE_MODEL = metrics.mean_absolute_error(y_test, y_pred)\n",
        "\n",
        "print('Mean Absolute Percentage Error:', metrics.mean_absolute_percentage_error(y_test, y_pred))\n",
        "ORCL_MAPE_MODEL = metrics.mean_absolute_percentage_error(y_test, y_pred)\n",
        "\n",
        "print('Root Mean Squared Error:', np.sqrt(metrics.mean_squared_error(y_test, y_pred)))\n",
        "ORCL_RMSE_MODEL = np.sqrt(metrics.mean_squared_error(y_test, y_pred))"
      ],
      "execution_count": 17,
      "outputs": [
        {
          "output_type": "stream",
          "name": "stdout",
          "text": [
            "R Squared = 0.9644590636464351\n",
            "Mean Absolute Error: 2.3190677218967015\n",
            "Mean Absolute Percentage Error: 0.011609502735590478\n",
            "Root Mean Squared Error: 2.926637610209371\n"
          ]
        }
      ]
    },
    {
      "cell_type": "code",
      "metadata": {
        "id": "qToGfUID26eE",
        "colab": {
          "base_uri": "https://localhost:8080/"
        },
        "outputId": "87b2adb8-6614-492e-b569-1904691d305b"
      },
      "source": [
        "from prettytable import PrettyTable\n",
        "waktu = stop - start\n",
        "nmtabel = PrettyTable([\"Nama Emiten\",\"R2\",\"MAE\",\"MAPE\",\"RMSE\",\"Waktu\"])\n",
        "nmtabel.add_row([emiten,'{:.2f}'.format(ORCL_R2_MODEL), '{:.2f}'.format(ORCL_MAE_MODEL), '{:.2f}'.format(ORCL_MAPE_MODEL), '{:.2f}'.format(ORCL_RMSE_MODEL),'{:.0f}'.format(waktu)])\n",
        "#nmtabel.add_row([\"5\",\"Paper Acuan\",\"ORCL\",\"LSTM\",\"100\",\"01\",\"Adam\",\"0.90153\", \"0.98621\",\"1.97875\",\"1.39695\",\"-\"])\n",
        "print(nmtabel)"
      ],
      "execution_count": 18,
      "outputs": [
        {
          "output_type": "stream",
          "name": "stdout",
          "text": [
            "+-------------+------+------+------+------+-------+\n",
            "| Nama Emiten |  R2  | MAE  | MAPE | RMSE | Waktu |\n",
            "+-------------+------+------+------+------+-------+\n",
            "|     DMAS    | 0.96 | 2.32 | 0.01 | 2.93 |   31  |\n",
            "+-------------+------+------+------+------+-------+\n"
          ]
        }
      ]
    },
    {
      "cell_type": "code",
      "source": [
        "#grafik\n",
        "plt.plot(y_test, label='semula')\n",
        "plt.plot(y_pred, label='prediksi')\n",
        "#plt.title(\"Prediksi Harga Saham\")\n",
        "plt.xlabel('Waktu')\n",
        "plt.ylabel('Rupiah')\n",
        "plt.legend()\n",
        "#plt.savefig('BBKP.jpeg')\n",
        "plt.show()"
      ],
      "metadata": {
        "id": "xVA1BauNcSzH",
        "colab": {
          "base_uri": "https://localhost:8080/",
          "height": 278
        },
        "outputId": "e97652ff-5c2d-4c26-8406-b5e2cb59002b"
      },
      "execution_count": 19,
      "outputs": [
        {
          "output_type": "display_data",
          "data": {
            "text/plain": [
              "<Figure size 432x288 with 1 Axes>"
            ],
            "image/png": "[encoded data removed]"
          },
          "metadata": {
            "needs_background": "light"
          }
        }
      ]
    },
    {
      "cell_type": "code",
      "source": [
        "#clear session\n",
        "K.clear_session()"
      ],
      "metadata": {
        "id": "irN_aajEHjln"
      },
      "execution_count": 20,
      "outputs": []
    }
  ]
}
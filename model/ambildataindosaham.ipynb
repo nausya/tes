{
  "nbformat": 4,
  "nbformat_minor": 0,
  "metadata": {
    "colab": {
      "name": "ambildataindosaham.ipynb",
      "private_outputs": true,
      "provenance": []
    },
    "kernelspec": {
      "name": "python3",
      "display_name": "Python 3"
    },
    "language_info": {
      "name": "python"
    }
  },
  "cells": [
    {
      "cell_type": "code",
      "execution_count": null,
      "metadata": {
        "id": "OAL2OZrls9MX"
      },
      "outputs": [],
      "source": [
        "pip install yfinance"
      ]
    },
    {
      "cell_type": "code",
      "source": [
        "import yfinance as yf"
      ],
      "metadata": {
        "id": "iC_C2uDFvlGi"
      },
      "execution_count": null,
      "outputs": []
    },
    {
      "cell_type": "code",
      "source": [
        "#Ambil Data\n",
        "df = yf.download(\"arto.jk\", start=\"2020-01-01\", end=\"2022-01-01\")\n",
        "df.to_csv('arto.csv') \n",
        "df.head()"
      ],
      "metadata": {
        "id": "ur7TDjXOteTU"
      },
      "execution_count": null,
      "outputs": []
    },
    {
      "cell_type": "code",
      "source": [
        "df.tail()"
      ],
      "metadata": {
        "id": "CzG8e6ZSwHd1"
      },
      "execution_count": null,
      "outputs": []
    }
  ]
}
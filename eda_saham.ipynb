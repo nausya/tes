{
  "nbformat": 4,
  "nbformat_minor": 0,
  "metadata": {
    "colab": {
      "name": "eda-saham.ipynb",
      "private_outputs": true,
      "provenance": []
    },
    "kernelspec": {
      "name": "python3",
      "display_name": "Python 3"
    },
    "language_info": {
      "name": "python"
    }
  },
  "cells": [
    {
      "cell_type": "code",
      "execution_count": null,
      "metadata": {
        "id": "D9ccnWeos9jJ"
      },
      "outputs": [],
      "source": [
        "import pandas as pd\n",
        "import numpy as np\n",
        "import seaborn as sns"
      ]
    },
    {
      "cell_type": "code",
      "source": [
        "# Tampilan layar\n",
        "pd.set_option('display.max_rows', 800)\n",
        "pd.set_option('display.max_columns', 800)"
      ],
      "metadata": {
        "id": "2cUgS9CB3JDw"
      },
      "execution_count": null,
      "outputs": []
    },
    {
      "cell_type": "code",
      "source": [
        "df = pd.read_csv(\"orcl.csv\",index_col='Date',parse_dates=True,infer_datetime_format=True)"
      ],
      "metadata": {
        "id": "djCAhs5_tZDj"
      },
      "execution_count": null,
      "outputs": []
    },
    {
      "cell_type": "code",
      "source": [
        "df.plot()"
      ],
      "metadata": {
        "id": "WWyXPDXGubHo"
      },
      "execution_count": null,
      "outputs": []
    },
    {
      "cell_type": "code",
      "source": [
        "sns.barplot(data=df, x = 'Open', y='Volume')"
      ],
      "metadata": {
        "id": "w3vqC-P9yRJH"
      },
      "execution_count": null,
      "outputs": []
    },
    {
      "cell_type": "code",
      "source": [
        "df.describe()"
      ],
      "metadata": {
        "id": "yszOwnxx26Vy"
      },
      "execution_count": null,
      "outputs": []
    },
    {
      "cell_type": "code",
      "source": [
        "#Print cek data kosong\n",
        "print(\"Dataframe Shape: \", df. shape)\n",
        "print(\"Null Value Present: \", df.isnull().values.any())"
      ],
      "metadata": {
        "id": "tR8FzCJ3uhCq"
      },
      "execution_count": null,
      "outputs": []
    },
    {
      "cell_type": "code",
      "source": [
        "agg_dict = {'Open': 'first',\n",
        "          'High': 'max',\n",
        "          'Low': 'min',\n",
        "          'Close': 'last',\n",
        "          'Adj Close': 'last',\n",
        "          'Volume': 'mean'}\n",
        "\n",
        "# re-sample dataframe\n",
        "# 'D' untuk aggreat harian\n",
        "df = df.resample('5D').agg(agg_dict)"
      ],
      "metadata": {
        "id": "M3cMc-22unop"
      },
      "execution_count": null,
      "outputs": []
    },
    {
      "cell_type": "code",
      "source": [
        "#Print cek data kosong\n",
        "print(\"Dataframe Shape: \", df. shape)\n",
        "print(\"Null Value Present: \", df.isnull().values.any())"
      ],
      "metadata": {
        "id": "gFEvmMxoups3"
      },
      "execution_count": null,
      "outputs": []
    },
    {
      "cell_type": "code",
      "source": [
        "df[\"Close\"].plot()"
      ],
      "metadata": {
        "id": "T_9ykXwsusYL"
      },
      "execution_count": null,
      "outputs": []
    }
  ]
}
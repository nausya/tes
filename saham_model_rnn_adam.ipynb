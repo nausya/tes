{
  "nbformat": 4,
  "nbformat_minor": 0,
  "metadata": {
    "colab": {
      "name": "saham-model-rnn-adam.ipynb",
      "provenance": [],
      "collapsed_sections": [],
      "machine_shape": "hm"
    },
    "kernelspec": {
      "display_name": "Python 3",
      "name": "python3"
    },
    "language_info": {
      "name": "python"
    },
    "accelerator": "GPU"
  },
  "cells": [
    {
      "cell_type": "code",
      "metadata": {
        "id": "ad_L4E31NZm0"
      },
      "source": [
        "#Impor Library\n",
        "import pandas as pd\n",
        "import numpy as np\n",
        "%matplotlib inline\n",
        "import matplotlib. pyplot as plt\n",
        "import matplotlib\n",
        "from sklearn.preprocessing import MinMaxScaler\n",
        "from sklearn.preprocessing import StandardScaler\n",
        "from tensorflow.keras.layers import LSTM,SimpleRNN,GRU,Dense,Dropout\n",
        "from sklearn.model_selection import TimeSeriesSplit\n",
        "import matplotlib. dates as mandates\n",
        "from sklearn import linear_model\n",
        "from keras.models import Sequential\n",
        "import keras.backend as K\n",
        "from keras.callbacks import EarlyStopping\n",
        "from keras import optimizers\n",
        "from tensorflow.keras.optimizers import Adamax, Adam, RMSprop \n",
        "from keras.models import load_model\n",
        "from keras.utils.vis_utils import plot_model\n",
        "import timeit\n",
        "from sklearn.metrics import make_scorer, r2_score, confusion_matrix, mean_squared_error\n",
        "from sklearn import metrics\n",
        "from math import sqrt\n",
        "\n",
        "# Tampilan layar\n",
        "pd.set_option('display.max_rows', 800)\n",
        "pd.set_option('display.max_columns', 500)"
      ],
      "execution_count": 1,
      "outputs": []
    },
    {
      "cell_type": "code",
      "metadata": {
        "id": "9zVMajLETV_b",
        "colab": {
          "base_uri": "https://localhost:8080/"
        },
        "outputId": "a4729536-c93f-4847-e4f8-00aaae708b19"
      },
      "source": [
        "#Ambil Data\n",
        "df = pd.read_csv(\"orcl.csv\",index_col='Date',parse_dates=True,infer_datetime_format=True)\n",
        "df.to_pickle('dataset.pkl')   \n",
        "df = pd.read_pickle('dataset.pkl') \n",
        "df.info()"
      ],
      "execution_count": 2,
      "outputs": [
        {
          "output_type": "stream",
          "name": "stdout",
          "text": [
            "<class 'pandas.core.frame.DataFrame'>\n",
            "DatetimeIndex: 5044 entries, 2000-06-30 to 2020-07-20\n",
            "Data columns (total 6 columns):\n",
            " #   Column     Non-Null Count  Dtype  \n",
            "---  ------     --------------  -----  \n",
            " 0   Open       5044 non-null   float64\n",
            " 1   High       5044 non-null   float64\n",
            " 2   Low        5044 non-null   float64\n",
            " 3   Close      5044 non-null   float64\n",
            " 4   Adj Close  5044 non-null   float64\n",
            " 5   Volume     5044 non-null   int64  \n",
            "dtypes: float64(5), int64(1)\n",
            "memory usage: 275.8 KB\n"
          ]
        }
      ]
    },
    {
      "cell_type": "code",
      "metadata": {
        "id": "SjEcyWWuI-cU"
      },
      "source": [
        "agg_dict = {'Open': 'first',\n",
        "          'High': 'max',\n",
        "          'Low': 'min',\n",
        "          'Close': 'last',\n",
        "          'Adj Close': 'last',\n",
        "          'Volume': 'mean'}\n",
        "\n",
        "# re-sample dataframe\n",
        "# 'D' untuk aggreat harian\n",
        "df = df.resample('5D').agg(agg_dict)"
      ],
      "execution_count": 3,
      "outputs": []
    },
    {
      "cell_type": "code",
      "metadata": {
        "id": "kvpjhPr4JFKV",
        "colab": {
          "base_uri": "https://localhost:8080/",
          "height": 238
        },
        "outputId": "fbafc1ef-7670-4fe4-b717-aee70f17c6ee"
      },
      "source": [
        "df.tail()"
      ],
      "execution_count": 4,
      "outputs": [
        {
          "output_type": "execute_result",
          "data": {
            "text/html": [
              "\n",
              "  <div id=\"df-07a9993f-7762-4e4e-a1c5-bd399efe5bb3\">\n",
              "    <div class=\"colab-df-container\">\n",
              "      <div>\n",
              "<style scoped>\n",
              "    .dataframe tbody tr th:only-of-type {\n",
              "        vertical-align: middle;\n",
              "    }\n",
              "\n",
              "    .dataframe tbody tr th {\n",
              "        vertical-align: top;\n",
              "    }\n",
              "\n",
              "    .dataframe thead th {\n",
              "        text-align: right;\n",
              "    }\n",
              "</style>\n",
              "<table border=\"1\" class=\"dataframe\">\n",
              "  <thead>\n",
              "    <tr style=\"text-align: right;\">\n",
              "      <th></th>\n",
              "      <th>Open</th>\n",
              "      <th>High</th>\n",
              "      <th>Low</th>\n",
              "      <th>Close</th>\n",
              "      <th>Adj Close</th>\n",
              "      <th>Volume</th>\n",
              "    </tr>\n",
              "    <tr>\n",
              "      <th>Date</th>\n",
              "      <th></th>\n",
              "      <th></th>\n",
              "      <th></th>\n",
              "      <th></th>\n",
              "      <th></th>\n",
              "      <th></th>\n",
              "    </tr>\n",
              "  </thead>\n",
              "  <tbody>\n",
              "    <tr>\n",
              "      <th>2020-06-30</th>\n",
              "      <td>54.799999</td>\n",
              "      <td>56.430000</td>\n",
              "      <td>54.500000</td>\n",
              "      <td>55.939999</td>\n",
              "      <td>55.704502</td>\n",
              "      <td>1.740720e+07</td>\n",
              "    </tr>\n",
              "    <tr>\n",
              "      <th>2020-07-05</th>\n",
              "      <td>56.200001</td>\n",
              "      <td>57.799999</td>\n",
              "      <td>55.990002</td>\n",
              "      <td>57.529999</td>\n",
              "      <td>57.287807</td>\n",
              "      <td>1.420415e+07</td>\n",
              "    </tr>\n",
              "    <tr>\n",
              "      <th>2020-07-10</th>\n",
              "      <td>57.470001</td>\n",
              "      <td>57.840000</td>\n",
              "      <td>56.480000</td>\n",
              "      <td>57.200001</td>\n",
              "      <td>57.200001</td>\n",
              "      <td>1.469723e+07</td>\n",
              "    </tr>\n",
              "    <tr>\n",
              "      <th>2020-07-15</th>\n",
              "      <td>57.419998</td>\n",
              "      <td>57.840000</td>\n",
              "      <td>54.759998</td>\n",
              "      <td>54.900002</td>\n",
              "      <td>54.900002</td>\n",
              "      <td>1.123163e+07</td>\n",
              "    </tr>\n",
              "    <tr>\n",
              "      <th>2020-07-20</th>\n",
              "      <td>54.880001</td>\n",
              "      <td>55.514999</td>\n",
              "      <td>54.695000</td>\n",
              "      <td>55.450001</td>\n",
              "      <td>55.450001</td>\n",
              "      <td>9.410108e+06</td>\n",
              "    </tr>\n",
              "  </tbody>\n",
              "</table>\n",
              "</div>\n",
              "      <button class=\"colab-df-convert\" onclick=\"convertToInteractive('df-07a9993f-7762-4e4e-a1c5-bd399efe5bb3')\"\n",
              "              title=\"Convert this dataframe to an interactive table.\"\n",
              "              style=\"display:none;\">\n",
              "        \n",
              "  <svg xmlns=\"http://www.w3.org/2000/svg\" height=\"24px\"viewBox=\"0 0 24 24\"\n",
              "       width=\"24px\">\n",
              "    <path d=\"M0 0h24v24H0V0z\" fill=\"none\"/>\n",
              "    <path d=\"M18.56 5.44l.94 2.06.94-2.06 2.06-.94-2.06-.94-.94-2.06-.94 2.06-2.06.94zm-11 1L8.5 8.5l.94-2.06 2.06-.94-2.06-.94L8.5 2.5l-.94 2.06-2.06.94zm10 10l.94 2.06.94-2.06 2.06-.94-2.06-.94-.94-2.06-.94 2.06-2.06.94z\"/><path d=\"M17.41 7.96l-1.37-1.37c-.4-.4-.92-.59-1.43-.59-.52 0-1.04.2-1.43.59L10.3 9.45l-7.72 7.72c-.78.78-.78 2.05 0 2.83L4 21.41c.39.39.9.59 1.41.59.51 0 1.02-.2 1.41-.59l7.78-7.78 2.81-2.81c.8-.78.8-2.07 0-2.86zM5.41 20L4 18.59l7.72-7.72 1.47 1.35L5.41 20z\"/>\n",
              "  </svg>\n",
              "      </button>\n",
              "      \n",
              "  <style>\n",
              "    .colab-df-container {\n",
              "      display:flex;\n",
              "      flex-wrap:wrap;\n",
              "      gap: 12px;\n",
              "    }\n",
              "\n",
              "    .colab-df-convert {\n",
              "      background-color: #E8F0FE;\n",
              "      border: none;\n",
              "      border-radius: 50%;\n",
              "      cursor: pointer;\n",
              "      display: none;\n",
              "      fill: #1967D2;\n",
              "      height: 32px;\n",
              "      padding: 0 0 0 0;\n",
              "      width: 32px;\n",
              "    }\n",
              "\n",
              "    .colab-df-convert:hover {\n",
              "      background-color: #E2EBFA;\n",
              "      box-shadow: 0px 1px 2px rgba(60, 64, 67, 0.3), 0px 1px 3px 1px rgba(60, 64, 67, 0.15);\n",
              "      fill: #174EA6;\n",
              "    }\n",
              "\n",
              "    [theme=dark] .colab-df-convert {\n",
              "      background-color: #3B4455;\n",
              "      fill: #D2E3FC;\n",
              "    }\n",
              "\n",
              "    [theme=dark] .colab-df-convert:hover {\n",
              "      background-color: #434B5C;\n",
              "      box-shadow: 0px 1px 3px 1px rgba(0, 0, 0, 0.15);\n",
              "      filter: drop-shadow(0px 1px 2px rgba(0, 0, 0, 0.3));\n",
              "      fill: #FFFFFF;\n",
              "    }\n",
              "  </style>\n",
              "\n",
              "      <script>\n",
              "        const buttonEl =\n",
              "          document.querySelector('#df-07a9993f-7762-4e4e-a1c5-bd399efe5bb3 button.colab-df-convert');\n",
              "        buttonEl.style.display =\n",
              "          google.colab.kernel.accessAllowed ? 'block' : 'none';\n",
              "\n",
              "        async function convertToInteractive(key) {\n",
              "          const element = document.querySelector('#df-07a9993f-7762-4e4e-a1c5-bd399efe5bb3');\n",
              "          const dataTable =\n",
              "            await google.colab.kernel.invokeFunction('convertToInteractive',\n",
              "                                                     [key], {});\n",
              "          if (!dataTable) return;\n",
              "\n",
              "          const docLinkHtml = 'Like what you see? Visit the ' +\n",
              "            '<a target=\"_blank\" href=https://colab.research.google.com/notebooks/data_table.ipynb>data table notebook</a>'\n",
              "            + ' to learn more about interactive tables.';\n",
              "          element.innerHTML = '';\n",
              "          dataTable['output_type'] = 'display_data';\n",
              "          await google.colab.output.renderOutput(dataTable, element);\n",
              "          const docLink = document.createElement('div');\n",
              "          docLink.innerHTML = docLinkHtml;\n",
              "          element.appendChild(docLink);\n",
              "        }\n",
              "      </script>\n",
              "    </div>\n",
              "  </div>\n",
              "  "
            ],
            "text/plain": [
              "                 Open       High        Low      Close  Adj Close  \\\n",
              "Date                                                                \n",
              "2020-06-30  54.799999  56.430000  54.500000  55.939999  55.704502   \n",
              "2020-07-05  56.200001  57.799999  55.990002  57.529999  57.287807   \n",
              "2020-07-10  57.470001  57.840000  56.480000  57.200001  57.200001   \n",
              "2020-07-15  57.419998  57.840000  54.759998  54.900002  54.900002   \n",
              "2020-07-20  54.880001  55.514999  54.695000  55.450001  55.450001   \n",
              "\n",
              "                  Volume  \n",
              "Date                      \n",
              "2020-06-30  1.740720e+07  \n",
              "2020-07-05  1.420415e+07  \n",
              "2020-07-10  1.469723e+07  \n",
              "2020-07-15  1.123163e+07  \n",
              "2020-07-20  9.410108e+06  "
            ]
          },
          "metadata": {},
          "execution_count": 4
        }
      ]
    },
    {
      "cell_type": "code",
      "metadata": {
        "id": "uNBsVcgtpc00",
        "colab": {
          "base_uri": "https://localhost:8080/"
        },
        "outputId": "cfd005ba-1f70-4fce-c4c7-7d1973a4e1d2"
      },
      "source": [
        "df.info()"
      ],
      "execution_count": 5,
      "outputs": [
        {
          "output_type": "stream",
          "name": "stdout",
          "text": [
            "<class 'pandas.core.frame.DataFrame'>\n",
            "DatetimeIndex: 1466 entries, 2000-06-30 to 2020-07-20\n",
            "Freq: 5D\n",
            "Data columns (total 6 columns):\n",
            " #   Column     Non-Null Count  Dtype  \n",
            "---  ------     --------------  -----  \n",
            " 0   Open       1466 non-null   float64\n",
            " 1   High       1466 non-null   float64\n",
            " 2   Low        1466 non-null   float64\n",
            " 3   Close      1466 non-null   float64\n",
            " 4   Adj Close  1466 non-null   float64\n",
            " 5   Volume     1466 non-null   float64\n",
            "dtypes: float64(6)\n",
            "memory usage: 120.2 KB\n"
          ]
        }
      ]
    },
    {
      "cell_type": "code",
      "metadata": {
        "id": "Q_Uim7PZTtCn",
        "colab": {
          "base_uri": "https://localhost:8080/"
        },
        "outputId": "a10718c8-3981-4a27-be0d-3b25e2d88847"
      },
      "source": [
        "#Print cek data kosong\n",
        "print(\"Dataframe Shape: \", df. shape)\n",
        "print(\"Null Value Present: \", df.isnull().values.any())"
      ],
      "execution_count": 6,
      "outputs": [
        {
          "output_type": "stream",
          "name": "stdout",
          "text": [
            "Dataframe Shape:  (1466, 6)\n",
            "Null Value Present:  False\n"
          ]
        }
      ]
    },
    {
      "cell_type": "code",
      "source": [
        "#pengisian data kosong\n",
        "df = df.fillna(method = \"ffill\")"
      ],
      "metadata": {
        "id": "xPVVqa4IebZc"
      },
      "execution_count": 7,
      "outputs": []
    },
    {
      "cell_type": "code",
      "metadata": {
        "id": "0Hg-PYHgT5Ye",
        "colab": {
          "base_uri": "https://localhost:8080/",
          "height": 296
        },
        "outputId": "af85d4bb-e04d-4938-9bf7-3c6c67018d63"
      },
      "source": [
        "#Plot Nilai Close\n",
        "df[\"Close\"].plot()"
      ],
      "execution_count": 8,
      "outputs": [
        {
          "output_type": "execute_result",
          "data": {
            "text/plain": [
              "<matplotlib.axes._subplots.AxesSubplot at 0x7f389184fb50>"
            ]
          },
          "metadata": {},
          "execution_count": 8
        },
        {
          "output_type": "display_data",
          "data": {
            "image/png": "[encoded data removed]",
            "text/plain": [
              "<Figure size 432x288 with 1 Axes>"
            ]
          },
          "metadata": {
            "needs_background": "light"
          }
        }
      ]
    },
    {
      "cell_type": "code",
      "metadata": {
        "id": "aC3cHPHhUDSM"
      },
      "source": [
        "#Tentukan Target\n",
        "output_var = pd.DataFrame(df['Close'])\n",
        "#Pilih Features\n",
        "features = ['Open', 'High', 'Low', 'Volume']"
      ],
      "execution_count": 9,
      "outputs": []
    },
    {
      "cell_type": "code",
      "metadata": {
        "id": "pdaU_iAmUTQd",
        "colab": {
          "base_uri": "https://localhost:8080/",
          "height": 238
        },
        "outputId": "2b25388c-561e-4dbe-9e39-00ae3ce4746f"
      },
      "source": [
        "#Skala Data\n",
        "scaler = StandardScaler()# standar scaler lebih baik\n",
        "#scaler = MinMaxScaler()\n",
        "feature_transform = scaler.fit_transform(df[features])\n",
        "feature_transform= pd.DataFrame(columns=features, data=feature_transform, index=df.index)\n",
        "feature_transform.head()"
      ],
      "execution_count": 10,
      "outputs": [
        {
          "output_type": "execute_result",
          "data": {
            "text/html": [
              "\n",
              "  <div id=\"df-da99dde3-94ef-40e7-9813-ea954c700421\">\n",
              "    <div class=\"colab-df-container\">\n",
              "      <div>\n",
              "<style scoped>\n",
              "    .dataframe tbody tr th:only-of-type {\n",
              "        vertical-align: middle;\n",
              "    }\n",
              "\n",
              "    .dataframe tbody tr th {\n",
              "        vertical-align: top;\n",
              "    }\n",
              "\n",
              "    .dataframe thead th {\n",
              "        text-align: right;\n",
              "    }\n",
              "</style>\n",
              "<table border=\"1\" class=\"dataframe\">\n",
              "  <thead>\n",
              "    <tr style=\"text-align: right;\">\n",
              "      <th></th>\n",
              "      <th>Open</th>\n",
              "      <th>High</th>\n",
              "      <th>Low</th>\n",
              "      <th>Volume</th>\n",
              "    </tr>\n",
              "    <tr>\n",
              "      <th>Date</th>\n",
              "      <th></th>\n",
              "      <th></th>\n",
              "      <th></th>\n",
              "      <th></th>\n",
              "    </tr>\n",
              "  </thead>\n",
              "  <tbody>\n",
              "    <tr>\n",
              "      <th>2000-06-30</th>\n",
              "      <td>0.824371</td>\n",
              "      <td>0.914391</td>\n",
              "      <td>0.824959</td>\n",
              "      <td>0.569240</td>\n",
              "    </tr>\n",
              "    <tr>\n",
              "      <th>2000-07-05</th>\n",
              "      <td>0.696241</td>\n",
              "      <td>0.669944</td>\n",
              "      <td>0.565994</td>\n",
              "      <td>1.664611</td>\n",
              "    </tr>\n",
              "    <tr>\n",
              "      <th>2000-07-10</th>\n",
              "      <td>0.617564</td>\n",
              "      <td>0.634388</td>\n",
              "      <td>0.543277</td>\n",
              "      <td>0.490002</td>\n",
              "    </tr>\n",
              "    <tr>\n",
              "      <th>2000-07-15</th>\n",
              "      <td>0.642291</td>\n",
              "      <td>0.683278</td>\n",
              "      <td>0.611426</td>\n",
              "      <td>0.055063</td>\n",
              "    </tr>\n",
              "    <tr>\n",
              "      <th>2000-07-20</th>\n",
              "      <td>0.624308</td>\n",
              "      <td>0.718833</td>\n",
              "      <td>0.675032</td>\n",
              "      <td>0.258420</td>\n",
              "    </tr>\n",
              "  </tbody>\n",
              "</table>\n",
              "</div>\n",
              "      <button class=\"colab-df-convert\" onclick=\"convertToInteractive('df-da99dde3-94ef-40e7-9813-ea954c700421')\"\n",
              "              title=\"Convert this dataframe to an interactive table.\"\n",
              "              style=\"display:none;\">\n",
              "        \n",
              "  <svg xmlns=\"http://www.w3.org/2000/svg\" height=\"24px\"viewBox=\"0 0 24 24\"\n",
              "       width=\"24px\">\n",
              "    <path d=\"M0 0h24v24H0V0z\" fill=\"none\"/>\n",
              "    <path d=\"M18.56 5.44l.94 2.06.94-2.06 2.06-.94-2.06-.94-.94-2.06-.94 2.06-2.06.94zm-11 1L8.5 8.5l.94-2.06 2.06-.94-2.06-.94L8.5 2.5l-.94 2.06-2.06.94zm10 10l.94 2.06.94-2.06 2.06-.94-2.06-.94-.94-2.06-.94 2.06-2.06.94z\"/><path d=\"M17.41 7.96l-1.37-1.37c-.4-.4-.92-.59-1.43-.59-.52 0-1.04.2-1.43.59L10.3 9.45l-7.72 7.72c-.78.78-.78 2.05 0 2.83L4 21.41c.39.39.9.59 1.41.59.51 0 1.02-.2 1.41-.59l7.78-7.78 2.81-2.81c.8-.78.8-2.07 0-2.86zM5.41 20L4 18.59l7.72-7.72 1.47 1.35L5.41 20z\"/>\n",
              "  </svg>\n",
              "      </button>\n",
              "      \n",
              "  <style>\n",
              "    .colab-df-container {\n",
              "      display:flex;\n",
              "      flex-wrap:wrap;\n",
              "      gap: 12px;\n",
              "    }\n",
              "\n",
              "    .colab-df-convert {\n",
              "      background-color: #E8F0FE;\n",
              "      border: none;\n",
              "      border-radius: 50%;\n",
              "      cursor: pointer;\n",
              "      display: none;\n",
              "      fill: #1967D2;\n",
              "      height: 32px;\n",
              "      padding: 0 0 0 0;\n",
              "      width: 32px;\n",
              "    }\n",
              "\n",
              "    .colab-df-convert:hover {\n",
              "      background-color: #E2EBFA;\n",
              "      box-shadow: 0px 1px 2px rgba(60, 64, 67, 0.3), 0px 1px 3px 1px rgba(60, 64, 67, 0.15);\n",
              "      fill: #174EA6;\n",
              "    }\n",
              "\n",
              "    [theme=dark] .colab-df-convert {\n",
              "      background-color: #3B4455;\n",
              "      fill: #D2E3FC;\n",
              "    }\n",
              "\n",
              "    [theme=dark] .colab-df-convert:hover {\n",
              "      background-color: #434B5C;\n",
              "      box-shadow: 0px 1px 3px 1px rgba(0, 0, 0, 0.15);\n",
              "      filter: drop-shadow(0px 1px 2px rgba(0, 0, 0, 0.3));\n",
              "      fill: #FFFFFF;\n",
              "    }\n",
              "  </style>\n",
              "\n",
              "      <script>\n",
              "        const buttonEl =\n",
              "          document.querySelector('#df-da99dde3-94ef-40e7-9813-ea954c700421 button.colab-df-convert');\n",
              "        buttonEl.style.display =\n",
              "          google.colab.kernel.accessAllowed ? 'block' : 'none';\n",
              "\n",
              "        async function convertToInteractive(key) {\n",
              "          const element = document.querySelector('#df-da99dde3-94ef-40e7-9813-ea954c700421');\n",
              "          const dataTable =\n",
              "            await google.colab.kernel.invokeFunction('convertToInteractive',\n",
              "                                                     [key], {});\n",
              "          if (!dataTable) return;\n",
              "\n",
              "          const docLinkHtml = 'Like what you see? Visit the ' +\n",
              "            '<a target=\"_blank\" href=https://colab.research.google.com/notebooks/data_table.ipynb>data table notebook</a>'\n",
              "            + ' to learn more about interactive tables.';\n",
              "          element.innerHTML = '';\n",
              "          dataTable['output_type'] = 'display_data';\n",
              "          await google.colab.output.renderOutput(dataTable, element);\n",
              "          const docLink = document.createElement('div');\n",
              "          docLink.innerHTML = docLinkHtml;\n",
              "          element.appendChild(docLink);\n",
              "        }\n",
              "      </script>\n",
              "    </div>\n",
              "  </div>\n",
              "  "
            ],
            "text/plain": [
              "                Open      High       Low    Volume\n",
              "Date                                              \n",
              "2000-06-30  0.824371  0.914391  0.824959  0.569240\n",
              "2000-07-05  0.696241  0.669944  0.565994  1.664611\n",
              "2000-07-10  0.617564  0.634388  0.543277  0.490002\n",
              "2000-07-15  0.642291  0.683278  0.611426  0.055063\n",
              "2000-07-20  0.624308  0.718833  0.675032  0.258420"
            ]
          },
          "metadata": {},
          "execution_count": 10
        }
      ]
    },
    {
      "cell_type": "code",
      "metadata": {
        "id": "LBGysbtuUZpU"
      },
      "source": [
        "#Split Data Train set and Test set\n",
        "timesplit= TimeSeriesSplit(n_splits=10)\n",
        "for train_index, test_index in timesplit.split(feature_transform):\n",
        "        X_train, X_test = feature_transform[:len(train_index)], feature_transform[len(train_index): (len(train_index)+len(test_index))]\n",
        "        y_train, y_test = output_var[:len(train_index)].values.ravel(), output_var[len(train_index): (len(train_index)+len(test_index))].values.ravel()"
      ],
      "execution_count": 11,
      "outputs": []
    },
    {
      "cell_type": "code",
      "metadata": {
        "id": "X66MjDLDUdXX"
      },
      "source": [
        "#Reshape Data\n",
        "trainX =np.array(X_train)\n",
        "testX =np.array(X_test)\n",
        "X_train = trainX.reshape(X_train.shape[0], 1, X_train.shape[1])\n",
        "X_test = testX.reshape(X_test.shape[0], 1, X_test.shape[1])"
      ],
      "execution_count": 12,
      "outputs": []
    },
    {
      "cell_type": "code",
      "metadata": {
        "id": "0xHlXytWUf2u",
        "colab": {
          "base_uri": "https://localhost:8080/"
        },
        "outputId": "dc78a0df-f1b3-4ad4-c538-1c65733eb812"
      },
      "source": [
        "#Rencana Model\n",
        "\n",
        "jml_epochs= 100\n",
        "input_optimasi = 'Adam'\n",
        "input_lr = '01'\n",
        "\n",
        "#Set optimizer\n",
        "if input_lr == '01':\n",
        "  lr=0.1\n",
        "elif input_lr == '001':\n",
        "  lr=0.01\n",
        "elif input_lr == '0001':\n",
        "  lr=0.001\n",
        "\n",
        "if input_optimasi == 'Adamax':\n",
        "  opt = Adamax(learning_rate=lr)\n",
        "elif input_optimasi == 'Adam':\n",
        "  opt = Adam(learning_rate=lr)\n",
        "elif input_optimasi == 'RMSprop':\n",
        "  opt = RMSprop(learning_rate=lr)\n",
        "\n",
        "\n",
        "model = Sequential()\n",
        "model.add(SimpleRNN(32, input_dim=len(features), activation='relu', kernel_initializer='he_normal'))\n",
        "model.add(Dense(1, activation='linear'))\n",
        "model.compile(loss='mean_squared_error', optimizer=opt, metrics=['mae','mse'])\n",
        "\n",
        "\n",
        "\n",
        "\n",
        "model.summary()"
      ],
      "execution_count": 13,
      "outputs": [
        {
          "output_type": "stream",
          "name": "stdout",
          "text": [
            "Model: \"sequential\"\n",
            "_________________________________________________________________\n",
            " Layer (type)                Output Shape              Param #   \n",
            "=================================================================\n",
            " simple_rnn (SimpleRNN)      (None, 32)                1184      \n",
            "                                                                 \n",
            " dense (Dense)               (None, 1)                 33        \n",
            "                                                                 \n",
            "=================================================================\n",
            "Total params: 1,217\n",
            "Trainable params: 1,217\n",
            "Non-trainable params: 0\n",
            "_________________________________________________________________\n"
          ]
        }
      ]
    },
    {
      "cell_type": "code",
      "metadata": {
        "id": "9i2t1gNDU1uC",
        "colab": {
          "base_uri": "https://localhost:8080/"
        },
        "outputId": "f40d5157-1c92-4d09-b120-fe28104d2047"
      },
      "source": [
        "#Model Training\n",
        "\n",
        "start = timeit.default_timer()\n",
        "history=model.fit(X_train, y_train, epochs=jml_epochs, batch_size=16, verbose=1, shuffle=False)\n",
        "stop = timeit.default_timer()"
      ],
      "execution_count": 14,
      "outputs": [
        {
          "output_type": "stream",
          "name": "stdout",
          "text": [
            "Epoch 1/100\n",
            "84/84 [==============================] - 3s 5ms/step - loss: 79.3972 - mae: 6.3631 - mse: 79.3972\n",
            "Epoch 2/100\n",
            "84/84 [==============================] - 0s 5ms/step - loss: 33.5746 - mae: 4.8767 - mse: 33.5746\n",
            "Epoch 3/100\n",
            "84/84 [==============================] - 0s 5ms/step - loss: 25.7312 - mae: 4.1837 - mse: 25.7312\n",
            "Epoch 4/100\n",
            "84/84 [==============================] - 0s 5ms/step - loss: 31.9360 - mae: 4.4038 - mse: 31.9360\n",
            "Epoch 5/100\n",
            "84/84 [==============================] - 0s 5ms/step - loss: 51.8899 - mae: 6.0006 - mse: 51.8899\n",
            "Epoch 6/100\n",
            "84/84 [==============================] - 0s 5ms/step - loss: 26.0145 - mae: 4.1215 - mse: 26.0145\n",
            "Epoch 7/100\n",
            "84/84 [==============================] - 0s 5ms/step - loss: 17.6484 - mae: 3.2795 - mse: 17.6484\n",
            "Epoch 8/100\n",
            "84/84 [==============================] - 0s 5ms/step - loss: 9.5445 - mae: 2.2276 - mse: 9.5445\n",
            "Epoch 9/100\n",
            "84/84 [==============================] - 0s 5ms/step - loss: 10.2060 - mae: 2.4466 - mse: 10.2060\n",
            "Epoch 10/100\n",
            "84/84 [==============================] - 0s 5ms/step - loss: 5.8503 - mae: 1.6886 - mse: 5.8503\n",
            "Epoch 11/100\n",
            "84/84 [==============================] - 0s 5ms/step - loss: 3.4377 - mae: 1.2773 - mse: 3.4377\n",
            "Epoch 12/100\n",
            "84/84 [==============================] - 0s 5ms/step - loss: 2.7792 - mae: 1.1610 - mse: 2.7792\n",
            "Epoch 13/100\n",
            "84/84 [==============================] - 0s 5ms/step - loss: 2.2696 - mae: 1.0974 - mse: 2.2696\n",
            "Epoch 14/100\n",
            "84/84 [==============================] - 0s 5ms/step - loss: 2.0218 - mae: 1.0096 - mse: 2.0218\n",
            "Epoch 15/100\n",
            "84/84 [==============================] - 0s 5ms/step - loss: 1.8183 - mae: 0.9958 - mse: 1.8183\n",
            "Epoch 16/100\n",
            "84/84 [==============================] - 0s 5ms/step - loss: 1.9033 - mae: 1.0940 - mse: 1.9033\n",
            "Epoch 17/100\n",
            "84/84 [==============================] - 0s 5ms/step - loss: 2.1100 - mae: 1.1919 - mse: 2.1100\n",
            "Epoch 18/100\n",
            "84/84 [==============================] - 0s 5ms/step - loss: 2.2641 - mae: 1.2502 - mse: 2.2641\n",
            "Epoch 19/100\n",
            "84/84 [==============================] - 0s 5ms/step - loss: 2.6314 - mae: 1.3669 - mse: 2.6314\n",
            "Epoch 20/100\n",
            "84/84 [==============================] - 0s 5ms/step - loss: 3.0617 - mae: 1.4681 - mse: 3.0617\n",
            "Epoch 21/100\n",
            "84/84 [==============================] - 0s 5ms/step - loss: 2.5691 - mae: 1.3286 - mse: 2.5691\n",
            "Epoch 22/100\n",
            "84/84 [==============================] - 0s 5ms/step - loss: 2.1696 - mae: 1.1562 - mse: 2.1696\n",
            "Epoch 23/100\n",
            "84/84 [==============================] - 0s 5ms/step - loss: 2.5645 - mae: 1.2647 - mse: 2.5645\n",
            "Epoch 24/100\n",
            "84/84 [==============================] - 0s 5ms/step - loss: 2.6865 - mae: 1.2831 - mse: 2.6865\n",
            "Epoch 25/100\n",
            "84/84 [==============================] - 0s 5ms/step - loss: 2.8655 - mae: 1.3105 - mse: 2.8655\n",
            "Epoch 26/100\n",
            "84/84 [==============================] - 0s 5ms/step - loss: 3.0838 - mae: 1.3474 - mse: 3.0838\n",
            "Epoch 27/100\n",
            "84/84 [==============================] - 0s 5ms/step - loss: 3.4583 - mae: 1.4178 - mse: 3.4583\n",
            "Epoch 28/100\n",
            "84/84 [==============================] - 0s 5ms/step - loss: 3.8706 - mae: 1.4499 - mse: 3.8706\n",
            "Epoch 29/100\n",
            "84/84 [==============================] - 0s 5ms/step - loss: 4.7791 - mae: 1.5599 - mse: 4.7791\n",
            "Epoch 30/100\n",
            "84/84 [==============================] - 0s 5ms/step - loss: 5.7179 - mae: 1.6616 - mse: 5.7179\n",
            "Epoch 31/100\n",
            "84/84 [==============================] - 0s 5ms/step - loss: 5.8311 - mae: 1.6900 - mse: 5.8311\n",
            "Epoch 32/100\n",
            "84/84 [==============================] - 0s 5ms/step - loss: 5.0609 - mae: 1.5835 - mse: 5.0609\n",
            "Epoch 33/100\n",
            "84/84 [==============================] - 0s 5ms/step - loss: 4.2506 - mae: 1.4470 - mse: 4.2506\n",
            "Epoch 34/100\n",
            "84/84 [==============================] - 0s 5ms/step - loss: 3.6536 - mae: 1.3521 - mse: 3.6536\n",
            "Epoch 35/100\n",
            "84/84 [==============================] - 0s 5ms/step - loss: 2.9770 - mae: 1.2543 - mse: 2.9770\n",
            "Epoch 36/100\n",
            "84/84 [==============================] - 0s 5ms/step - loss: 2.0906 - mae: 1.0849 - mse: 2.0906\n",
            "Epoch 37/100\n",
            "84/84 [==============================] - 1s 8ms/step - loss: 1.1234 - mae: 0.7556 - mse: 1.1234\n",
            "Epoch 38/100\n",
            "84/84 [==============================] - 1s 7ms/step - loss: 0.8478 - mae: 0.6424 - mse: 0.8478\n",
            "Epoch 39/100\n",
            "84/84 [==============================] - 0s 5ms/step - loss: 0.6424 - mae: 0.5567 - mse: 0.6424\n",
            "Epoch 40/100\n",
            "84/84 [==============================] - 0s 5ms/step - loss: 0.5284 - mae: 0.5064 - mse: 0.5284\n",
            "Epoch 41/100\n",
            "84/84 [==============================] - 0s 5ms/step - loss: 0.4559 - mae: 0.4749 - mse: 0.4559\n",
            "Epoch 42/100\n",
            "84/84 [==============================] - 0s 5ms/step - loss: 0.4009 - mae: 0.4480 - mse: 0.4009\n",
            "Epoch 43/100\n",
            "84/84 [==============================] - 0s 5ms/step - loss: 0.3582 - mae: 0.4269 - mse: 0.3582\n",
            "Epoch 44/100\n",
            "84/84 [==============================] - 0s 5ms/step - loss: 0.3044 - mae: 0.3919 - mse: 0.3044\n",
            "Epoch 45/100\n",
            "84/84 [==============================] - 0s 5ms/step - loss: 0.2847 - mae: 0.3798 - mse: 0.2847\n",
            "Epoch 46/100\n",
            "84/84 [==============================] - 0s 5ms/step - loss: 0.2761 - mae: 0.3749 - mse: 0.2761\n",
            "Epoch 47/100\n",
            "84/84 [==============================] - 0s 5ms/step - loss: 0.2682 - mae: 0.3725 - mse: 0.2682\n",
            "Epoch 48/100\n",
            "84/84 [==============================] - 0s 5ms/step - loss: 0.2626 - mae: 0.3723 - mse: 0.2626\n",
            "Epoch 49/100\n",
            "84/84 [==============================] - 0s 5ms/step - loss: 0.2733 - mae: 0.3847 - mse: 0.2733\n",
            "Epoch 50/100\n",
            "84/84 [==============================] - 0s 5ms/step - loss: 0.3381 - mae: 0.4398 - mse: 0.3381\n",
            "Epoch 51/100\n",
            "84/84 [==============================] - 0s 5ms/step - loss: 0.4286 - mae: 0.5149 - mse: 0.4286\n",
            "Epoch 52/100\n",
            "84/84 [==============================] - 0s 5ms/step - loss: 0.7091 - mae: 0.6762 - mse: 0.7091\n",
            "Epoch 53/100\n",
            "84/84 [==============================] - 0s 5ms/step - loss: 0.6117 - mae: 0.5970 - mse: 0.6117\n",
            "Epoch 54/100\n",
            "84/84 [==============================] - 0s 5ms/step - loss: 0.6784 - mae: 0.6636 - mse: 0.6784\n",
            "Epoch 55/100\n",
            "84/84 [==============================] - 0s 5ms/step - loss: 0.7327 - mae: 0.6904 - mse: 0.7327\n",
            "Epoch 56/100\n",
            "84/84 [==============================] - 0s 5ms/step - loss: 0.9448 - mae: 0.7906 - mse: 0.9448\n",
            "Epoch 57/100\n",
            "84/84 [==============================] - 0s 5ms/step - loss: 0.9037 - mae: 0.7542 - mse: 0.9037\n",
            "Epoch 58/100\n",
            "84/84 [==============================] - 1s 9ms/step - loss: 0.6428 - mae: 0.6067 - mse: 0.6428\n",
            "Epoch 59/100\n",
            "84/84 [==============================] - 0s 5ms/step - loss: 0.4580 - mae: 0.5181 - mse: 0.4580\n",
            "Epoch 60/100\n",
            "84/84 [==============================] - 0s 5ms/step - loss: 0.4218 - mae: 0.5049 - mse: 0.4218\n",
            "Epoch 61/100\n",
            "84/84 [==============================] - 0s 5ms/step - loss: 0.5426 - mae: 0.5913 - mse: 0.5426\n",
            "Epoch 62/100\n",
            "84/84 [==============================] - 0s 5ms/step - loss: 0.6320 - mae: 0.6383 - mse: 0.6320\n",
            "Epoch 63/100\n",
            "84/84 [==============================] - 0s 5ms/step - loss: 0.9715 - mae: 0.8102 - mse: 0.9715\n",
            "Epoch 64/100\n",
            "84/84 [==============================] - 0s 5ms/step - loss: 1.1399 - mae: 0.8787 - mse: 1.1399\n",
            "Epoch 65/100\n",
            "84/84 [==============================] - 0s 5ms/step - loss: 0.7322 - mae: 0.6589 - mse: 0.7322\n",
            "Epoch 66/100\n",
            "84/84 [==============================] - 0s 5ms/step - loss: 0.4470 - mae: 0.5031 - mse: 0.4470\n",
            "Epoch 67/100\n",
            "84/84 [==============================] - 0s 5ms/step - loss: 0.3741 - mae: 0.4650 - mse: 0.3741\n",
            "Epoch 68/100\n",
            "84/84 [==============================] - 0s 5ms/step - loss: 0.3767 - mae: 0.4737 - mse: 0.3767\n",
            "Epoch 69/100\n",
            "84/84 [==============================] - 0s 5ms/step - loss: 0.5960 - mae: 0.6250 - mse: 0.5960\n",
            "Epoch 70/100\n",
            "84/84 [==============================] - 0s 5ms/step - loss: 1.2499 - mae: 0.9186 - mse: 1.2499\n",
            "Epoch 71/100\n",
            "84/84 [==============================] - 0s 5ms/step - loss: 1.2862 - mae: 0.9114 - mse: 1.2862\n",
            "Epoch 72/100\n",
            "84/84 [==============================] - 0s 5ms/step - loss: 0.5080 - mae: 0.5096 - mse: 0.5080\n",
            "Epoch 73/100\n",
            "84/84 [==============================] - 0s 5ms/step - loss: 0.2611 - mae: 0.3544 - mse: 0.2611\n",
            "Epoch 74/100\n",
            "84/84 [==============================] - 0s 5ms/step - loss: 0.2778 - mae: 0.3856 - mse: 0.2778\n",
            "Epoch 75/100\n",
            "84/84 [==============================] - 0s 5ms/step - loss: 0.4214 - mae: 0.4974 - mse: 0.4214\n",
            "Epoch 76/100\n",
            "84/84 [==============================] - 0s 5ms/step - loss: 0.5928 - mae: 0.5907 - mse: 0.5928\n",
            "Epoch 77/100\n",
            "84/84 [==============================] - 0s 5ms/step - loss: 0.5287 - mae: 0.5599 - mse: 0.5287\n",
            "Epoch 78/100\n",
            "84/84 [==============================] - 0s 5ms/step - loss: 0.3480 - mae: 0.4394 - mse: 0.3480\n",
            "Epoch 79/100\n",
            "84/84 [==============================] - 0s 5ms/step - loss: 0.2410 - mae: 0.3533 - mse: 0.2410\n",
            "Epoch 80/100\n",
            "84/84 [==============================] - 0s 5ms/step - loss: 0.2160 - mae: 0.3309 - mse: 0.2160\n",
            "Epoch 81/100\n",
            "84/84 [==============================] - 0s 5ms/step - loss: 0.2972 - mae: 0.4007 - mse: 0.2972\n",
            "Epoch 82/100\n",
            "84/84 [==============================] - 0s 5ms/step - loss: 0.5106 - mae: 0.5514 - mse: 0.5106\n",
            "Epoch 83/100\n",
            "84/84 [==============================] - 0s 5ms/step - loss: 1.2834 - mae: 0.8914 - mse: 1.2834\n",
            "Epoch 84/100\n",
            "84/84 [==============================] - 0s 5ms/step - loss: 3.9466 - mae: 1.6456 - mse: 3.9466\n",
            "Epoch 85/100\n",
            "84/84 [==============================] - 0s 6ms/step - loss: 2.5035 - mae: 1.2632 - mse: 2.5035\n",
            "Epoch 86/100\n",
            "84/84 [==============================] - 0s 5ms/step - loss: 4.1346 - mae: 1.6433 - mse: 4.1346\n",
            "Epoch 87/100\n",
            "84/84 [==============================] - 0s 5ms/step - loss: 4.6012 - mae: 1.7120 - mse: 4.6012\n",
            "Epoch 88/100\n",
            "84/84 [==============================] - 0s 5ms/step - loss: 2.7308 - mae: 1.2808 - mse: 2.7308\n",
            "Epoch 89/100\n",
            "84/84 [==============================] - 0s 5ms/step - loss: 0.8560 - mae: 0.5657 - mse: 0.8560\n",
            "Epoch 90/100\n",
            "84/84 [==============================] - 0s 5ms/step - loss: 0.4473 - mae: 0.4417 - mse: 0.4473\n",
            "Epoch 91/100\n",
            "84/84 [==============================] - 0s 5ms/step - loss: 0.3239 - mae: 0.3667 - mse: 0.3239\n",
            "Epoch 92/100\n",
            "84/84 [==============================] - 1s 7ms/step - loss: 0.2789 - mae: 0.3549 - mse: 0.2789\n",
            "Epoch 93/100\n",
            "84/84 [==============================] - 1s 9ms/step - loss: 0.2640 - mae: 0.3538 - mse: 0.2640\n",
            "Epoch 94/100\n",
            "84/84 [==============================] - 1s 9ms/step - loss: 0.2688 - mae: 0.3644 - mse: 0.2688\n",
            "Epoch 95/100\n",
            "84/84 [==============================] - 1s 9ms/step - loss: 0.2963 - mae: 0.3895 - mse: 0.2963\n",
            "Epoch 96/100\n",
            "84/84 [==============================] - 0s 5ms/step - loss: 0.3505 - mae: 0.4302 - mse: 0.3505\n",
            "Epoch 97/100\n",
            "84/84 [==============================] - 0s 5ms/step - loss: 0.4344 - mae: 0.4859 - mse: 0.4344\n",
            "Epoch 98/100\n",
            "84/84 [==============================] - 0s 5ms/step - loss: 0.5456 - mae: 0.5512 - mse: 0.5456\n",
            "Epoch 99/100\n",
            "84/84 [==============================] - 0s 5ms/step - loss: 0.6667 - mae: 0.6141 - mse: 0.6667\n",
            "Epoch 100/100\n",
            "84/84 [==============================] - 0s 5ms/step - loss: 0.7478 - mae: 0.6537 - mse: 0.7478\n"
          ]
        }
      ]
    },
    {
      "cell_type": "code",
      "metadata": {
        "id": "3m7Ach-RWqGn"
      },
      "source": [
        "#Model Prediksi\n",
        "y_pred= model.predict(X_test)"
      ],
      "execution_count": 15,
      "outputs": []
    },
    {
      "cell_type": "code",
      "metadata": {
        "id": "gIUmsnTuXdhb",
        "colab": {
          "base_uri": "https://localhost:8080/"
        },
        "outputId": "82b6a750-ab00-4d0f-935b-8a69b32463cc"
      },
      "source": [
        "print ('R Squared =',r2_score(y_test, y_pred))\n",
        "ORCL_R2_MODEL = r2_score(y_test, y_pred)\n",
        "\n",
        "print('Mean Absolute Error:', metrics.mean_absolute_error(y_test, y_pred))\n",
        "ORCL_MAE_MODEL = metrics.mean_absolute_error(y_test, y_pred)\n",
        "\n",
        "print('Mean Absolute Percentage Error:', metrics.mean_absolute_percentage_error(y_test, y_pred))\n",
        "ORCL_MAPE_MODEL = metrics.mean_absolute_percentage_error(y_test, y_pred)\n",
        "\n",
        "print('Root Mean Squared Error:', np.sqrt(metrics.mean_squared_error(y_test, y_pred)))\n",
        "ORCL_RMSE_MODEL = np.sqrt(metrics.mean_squared_error(y_test, y_pred))"
      ],
      "execution_count": 16,
      "outputs": [
        {
          "output_type": "stream",
          "name": "stdout",
          "text": [
            "R Squared = 0.9508065427993293\n",
            "Mean Absolute Error: 0.5838588101210054\n",
            "Mean Absolute Percentage Error: 0.011276717876064334\n",
            "Root Mean Squared Error: 0.7537734287156531\n"
          ]
        }
      ]
    },
    {
      "cell_type": "code",
      "metadata": {
        "id": "qToGfUID26eE",
        "colab": {
          "base_uri": "https://localhost:8080/"
        },
        "outputId": "d8c7a2b3-62a3-45e9-996f-10742f8f7989"
      },
      "source": [
        "#Kompilasi Performa Eror\n",
        "from prettytable import PrettyTable\n",
        "waktu = stop - start\n",
        "nmtabel = PrettyTable([\"Model\",\"Epoch\",\"LR\",\"OPT\",\"R2\",\"MAE\",\"MAPE\",\"RMSE\",\"Waktu\"])\n",
        "nmtabel.add_row([\"RNN\",jml_epochs,input_lr,input_optimasi,'{:.2f}'.format(ORCL_R2_MODEL), '{:.2f}'.format(ORCL_MAE_MODEL), '{:.2f}'.format(ORCL_MAPE_MODEL), '{:.2f}'.format(ORCL_RMSE_MODEL),'{:.0f}'.format(waktu)])\n",
        "#nmtabel.add_row([\"5\",\"Paper Acuan\",\"ORCL\",\"LSTM\",\"100\",\"01\",\"Adam\",\"0.90153\", \"0.98621\",\"1.97875\",\"1.39695\",\"-\"])\n",
        "print(nmtabel)"
      ],
      "execution_count": 17,
      "outputs": [
        {
          "output_type": "stream",
          "name": "stdout",
          "text": [
            "+-------+-------+----+------+------+------+------+------+-------+\n",
            "| Model | Epoch | LR | OPT  |  R2  | MAE  | MAPE | RMSE | Waktu |\n",
            "+-------+-------+----+------+------+------+------+------+-------+\n",
            "|  RNN  |  100  | 01 | Adam | 0.95 | 0.58 | 0.01 | 0.75 |   83  |\n",
            "+-------+-------+----+------+------+------+------+------+-------+\n"
          ]
        }
      ]
    },
    {
      "cell_type": "code",
      "source": [
        "#Grafik Asli dan Prediksi \n",
        "plt.plot(y_test, label='asli')\n",
        "plt.plot(y_pred, label='prediksi')\n",
        "plt.title(\"Prediksi Harga Saham\")\n",
        "plt.xlabel('Waktu')\n",
        "plt.ylabel('USD')\n",
        "plt.legend()\n",
        "plt.show()"
      ],
      "metadata": {
        "colab": {
          "base_uri": "https://localhost:8080/",
          "height": 295
        },
        "id": "bd9S12wHhqdd",
        "outputId": "8a862db3-64aa-407f-df68-05c82950defa"
      },
      "execution_count": 18,
      "outputs": [
        {
          "output_type": "display_data",
          "data": {
            "image/png": "[encoded data removed]",
            "text/plain": [
              "<Figure size 432x288 with 1 Axes>"
            ]
          },
          "metadata": {
            "needs_background": "light"
          }
        }
      ]
    },
    {
      "cell_type": "code",
      "source": [
        "#Hapus Sesi\n",
        "K.clear_session()"
      ],
      "metadata": {
        "id": "irN_aajEHjln"
      },
      "execution_count": 19,
      "outputs": []
    }
  ]
}